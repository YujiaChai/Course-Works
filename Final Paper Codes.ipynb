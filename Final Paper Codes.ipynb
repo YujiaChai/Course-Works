{
 "cells": [
  {
   "cell_type": "code",
   "execution_count": 1,
   "id": "fdfec448",
   "metadata": {},
   "outputs": [],
   "source": [
    "import pandas as pd\n",
    "from pathlib import Path\n",
    "import numpy as np\n",
    "import statsmodels.api as sm\n",
    "import statsmodels.formula.api as smf\n",
    "import yaml\n",
    "import requests\n",
    "from io import StringIO\n",
    "import math\n",
    "import matplotlib.pyplot as plt\n",
    "import seaborn as sns\n",
    "import matplotlib.ticker as mtick\n",
    "import math\n",
    "# !pip install pandas sas7bdat\n",
    "import pandas as pd\n",
    "from sas7bdat import SAS7BDAT"
   ]
  },
  {
   "cell_type": "code",
   "execution_count": 3,
   "id": "389a7031",
   "metadata": {},
   "outputs": [
    {
     "name": "stdout",
     "output_type": "stream",
     "text": [
      "File saved as oral_health_pumf_cycle1.csv\n"
     ]
    }
   ],
   "source": [
    "# Path to your .sas7bdat file\n",
    "sas_file_path = 'oral_health_pumf_cycle1.sas7bdat'\n",
    "\n",
    "# Path where the .csv file will be saved\n",
    "csv_file_path = 'oral_health_pumf_cycle1.csv'\n",
    "\n",
    "# Read the SAS file\n",
    "with SAS7BDAT(sas_file_path) as file:\n",
    "    df = file.to_data_frame()\n",
    "\n",
    "# Save the DataFrame to a CSV file\n",
    "df.to_csv(csv_file_path, index=False)\n",
    "\n",
    "print(f'File saved as {csv_file_path}')"
   ]
  },
  {
   "cell_type": "code",
   "execution_count": 57,
   "id": "16c02ed4",
   "metadata": {},
   "outputs": [],
   "source": [
    "testdf = pd.read_csv('oral_health_pumf_cycle1.csv')"
   ]
  },
  {
   "cell_type": "code",
   "execution_count": 6,
   "id": "f5fc1432",
   "metadata": {},
   "outputs": [
    {
     "data": {
      "text/html": [
       "<div>\n",
       "<style scoped>\n",
       "    .dataframe tbody tr th:only-of-type {\n",
       "        vertical-align: middle;\n",
       "    }\n",
       "\n",
       "    .dataframe tbody tr th {\n",
       "        vertical-align: top;\n",
       "    }\n",
       "\n",
       "    .dataframe thead th {\n",
       "        text-align: right;\n",
       "    }\n",
       "</style>\n",
       "<table border=\"1\" class=\"dataframe\">\n",
       "  <thead>\n",
       "    <tr style=\"text-align: right;\">\n",
       "      <th></th>\n",
       "      <th>PUMFID</th>\n",
       "      <th>DHH_SEX</th>\n",
       "      <th>AGEGROUP</th>\n",
       "      <th>DHHGMS</th>\n",
       "      <th>WORK</th>\n",
       "      <th>EDUDH04</th>\n",
       "      <th>INCDDIA4</th>\n",
       "      <th>SDCFIMM</th>\n",
       "      <th>SDCFCB</th>\n",
       "      <th>RACE</th>\n",
       "      <th>...</th>\n",
       "      <th>OHQ_12L</th>\n",
       "      <th>OHQ_21</th>\n",
       "      <th>OHQ_22</th>\n",
       "      <th>OHQ_23</th>\n",
       "      <th>OHQ_24</th>\n",
       "      <th>OHQ_25</th>\n",
       "      <th>OHQ_26</th>\n",
       "      <th>OHQ_27</th>\n",
       "      <th>OHQ_28</th>\n",
       "      <th>WGT_FULL</th>\n",
       "    </tr>\n",
       "  </thead>\n",
       "  <tbody>\n",
       "    <tr>\n",
       "      <th>0</th>\n",
       "      <td>47000000.0</td>\n",
       "      <td>2.0</td>\n",
       "      <td>1.0</td>\n",
       "      <td>3.0</td>\n",
       "      <td>6.0</td>\n",
       "      <td>9.0</td>\n",
       "      <td>4.0</td>\n",
       "      <td>2.0</td>\n",
       "      <td>1.0</td>\n",
       "      <td>1.0</td>\n",
       "      <td>...</td>\n",
       "      <td>6.0</td>\n",
       "      <td>2.0</td>\n",
       "      <td>2.0</td>\n",
       "      <td>2.0</td>\n",
       "      <td>2.0</td>\n",
       "      <td>2.0</td>\n",
       "      <td>2.0</td>\n",
       "      <td>2.0</td>\n",
       "      <td>2.0</td>\n",
       "      <td>759.257024</td>\n",
       "    </tr>\n",
       "    <tr>\n",
       "      <th>1</th>\n",
       "      <td>47000001.0</td>\n",
       "      <td>2.0</td>\n",
       "      <td>1.0</td>\n",
       "      <td>3.0</td>\n",
       "      <td>6.0</td>\n",
       "      <td>4.0</td>\n",
       "      <td>3.0</td>\n",
       "      <td>2.0</td>\n",
       "      <td>1.0</td>\n",
       "      <td>1.0</td>\n",
       "      <td>...</td>\n",
       "      <td>6.0</td>\n",
       "      <td>2.0</td>\n",
       "      <td>2.0</td>\n",
       "      <td>2.0</td>\n",
       "      <td>2.0</td>\n",
       "      <td>2.0</td>\n",
       "      <td>1.0</td>\n",
       "      <td>2.0</td>\n",
       "      <td>2.0</td>\n",
       "      <td>7287.819719</td>\n",
       "    </tr>\n",
       "    <tr>\n",
       "      <th>2</th>\n",
       "      <td>47000002.0</td>\n",
       "      <td>2.0</td>\n",
       "      <td>5.0</td>\n",
       "      <td>3.0</td>\n",
       "      <td>1.0</td>\n",
       "      <td>4.0</td>\n",
       "      <td>3.0</td>\n",
       "      <td>2.0</td>\n",
       "      <td>1.0</td>\n",
       "      <td>1.0</td>\n",
       "      <td>...</td>\n",
       "      <td>2.0</td>\n",
       "      <td>1.0</td>\n",
       "      <td>2.0</td>\n",
       "      <td>2.0</td>\n",
       "      <td>2.0</td>\n",
       "      <td>1.0</td>\n",
       "      <td>2.0</td>\n",
       "      <td>2.0</td>\n",
       "      <td>2.0</td>\n",
       "      <td>2799.467030</td>\n",
       "    </tr>\n",
       "    <tr>\n",
       "      <th>3</th>\n",
       "      <td>47000003.0</td>\n",
       "      <td>1.0</td>\n",
       "      <td>5.0</td>\n",
       "      <td>2.0</td>\n",
       "      <td>1.0</td>\n",
       "      <td>2.0</td>\n",
       "      <td>3.0</td>\n",
       "      <td>2.0</td>\n",
       "      <td>1.0</td>\n",
       "      <td>1.0</td>\n",
       "      <td>...</td>\n",
       "      <td>2.0</td>\n",
       "      <td>2.0</td>\n",
       "      <td>2.0</td>\n",
       "      <td>2.0</td>\n",
       "      <td>2.0</td>\n",
       "      <td>2.0</td>\n",
       "      <td>2.0</td>\n",
       "      <td>2.0</td>\n",
       "      <td>2.0</td>\n",
       "      <td>685.590528</td>\n",
       "    </tr>\n",
       "    <tr>\n",
       "      <th>4</th>\n",
       "      <td>47000004.0</td>\n",
       "      <td>1.0</td>\n",
       "      <td>4.0</td>\n",
       "      <td>3.0</td>\n",
       "      <td>1.0</td>\n",
       "      <td>1.0</td>\n",
       "      <td>2.0</td>\n",
       "      <td>2.0</td>\n",
       "      <td>1.0</td>\n",
       "      <td>1.0</td>\n",
       "      <td>...</td>\n",
       "      <td>2.0</td>\n",
       "      <td>1.0</td>\n",
       "      <td>2.0</td>\n",
       "      <td>1.0</td>\n",
       "      <td>2.0</td>\n",
       "      <td>2.0</td>\n",
       "      <td>2.0</td>\n",
       "      <td>2.0</td>\n",
       "      <td>2.0</td>\n",
       "      <td>671.006305</td>\n",
       "    </tr>\n",
       "    <tr>\n",
       "      <th>...</th>\n",
       "      <td>...</td>\n",
       "      <td>...</td>\n",
       "      <td>...</td>\n",
       "      <td>...</td>\n",
       "      <td>...</td>\n",
       "      <td>...</td>\n",
       "      <td>...</td>\n",
       "      <td>...</td>\n",
       "      <td>...</td>\n",
       "      <td>...</td>\n",
       "      <td>...</td>\n",
       "      <td>...</td>\n",
       "      <td>...</td>\n",
       "      <td>...</td>\n",
       "      <td>...</td>\n",
       "      <td>...</td>\n",
       "      <td>...</td>\n",
       "      <td>...</td>\n",
       "      <td>...</td>\n",
       "      <td>...</td>\n",
       "      <td>...</td>\n",
       "    </tr>\n",
       "    <tr>\n",
       "      <th>5599</th>\n",
       "      <td>47005599.0</td>\n",
       "      <td>1.0</td>\n",
       "      <td>7.0</td>\n",
       "      <td>1.0</td>\n",
       "      <td>2.0</td>\n",
       "      <td>2.0</td>\n",
       "      <td>3.0</td>\n",
       "      <td>2.0</td>\n",
       "      <td>1.0</td>\n",
       "      <td>1.0</td>\n",
       "      <td>...</td>\n",
       "      <td>6.0</td>\n",
       "      <td>2.0</td>\n",
       "      <td>2.0</td>\n",
       "      <td>2.0</td>\n",
       "      <td>2.0</td>\n",
       "      <td>2.0</td>\n",
       "      <td>2.0</td>\n",
       "      <td>2.0</td>\n",
       "      <td>2.0</td>\n",
       "      <td>6091.723978</td>\n",
       "    </tr>\n",
       "    <tr>\n",
       "      <th>5600</th>\n",
       "      <td>47005600.0</td>\n",
       "      <td>1.0</td>\n",
       "      <td>5.0</td>\n",
       "      <td>2.0</td>\n",
       "      <td>1.0</td>\n",
       "      <td>2.0</td>\n",
       "      <td>4.0</td>\n",
       "      <td>2.0</td>\n",
       "      <td>1.0</td>\n",
       "      <td>1.0</td>\n",
       "      <td>...</td>\n",
       "      <td>6.0</td>\n",
       "      <td>2.0</td>\n",
       "      <td>1.0</td>\n",
       "      <td>2.0</td>\n",
       "      <td>2.0</td>\n",
       "      <td>2.0</td>\n",
       "      <td>2.0</td>\n",
       "      <td>2.0</td>\n",
       "      <td>2.0</td>\n",
       "      <td>18314.955345</td>\n",
       "    </tr>\n",
       "    <tr>\n",
       "      <th>5601</th>\n",
       "      <td>47005601.0</td>\n",
       "      <td>2.0</td>\n",
       "      <td>5.0</td>\n",
       "      <td>3.0</td>\n",
       "      <td>2.0</td>\n",
       "      <td>1.0</td>\n",
       "      <td>2.0</td>\n",
       "      <td>2.0</td>\n",
       "      <td>1.0</td>\n",
       "      <td>1.0</td>\n",
       "      <td>...</td>\n",
       "      <td>2.0</td>\n",
       "      <td>2.0</td>\n",
       "      <td>1.0</td>\n",
       "      <td>2.0</td>\n",
       "      <td>2.0</td>\n",
       "      <td>2.0</td>\n",
       "      <td>1.0</td>\n",
       "      <td>2.0</td>\n",
       "      <td>2.0</td>\n",
       "      <td>4806.805193</td>\n",
       "    </tr>\n",
       "    <tr>\n",
       "      <th>5602</th>\n",
       "      <td>47005602.0</td>\n",
       "      <td>1.0</td>\n",
       "      <td>7.0</td>\n",
       "      <td>2.0</td>\n",
       "      <td>1.0</td>\n",
       "      <td>4.0</td>\n",
       "      <td>3.0</td>\n",
       "      <td>1.0</td>\n",
       "      <td>2.0</td>\n",
       "      <td>1.0</td>\n",
       "      <td>...</td>\n",
       "      <td>6.0</td>\n",
       "      <td>2.0</td>\n",
       "      <td>2.0</td>\n",
       "      <td>2.0</td>\n",
       "      <td>2.0</td>\n",
       "      <td>2.0</td>\n",
       "      <td>2.0</td>\n",
       "      <td>2.0</td>\n",
       "      <td>2.0</td>\n",
       "      <td>1336.891937</td>\n",
       "    </tr>\n",
       "    <tr>\n",
       "      <th>5603</th>\n",
       "      <td>47005603.0</td>\n",
       "      <td>2.0</td>\n",
       "      <td>5.0</td>\n",
       "      <td>1.0</td>\n",
       "      <td>1.0</td>\n",
       "      <td>2.0</td>\n",
       "      <td>4.0</td>\n",
       "      <td>2.0</td>\n",
       "      <td>1.0</td>\n",
       "      <td>1.0</td>\n",
       "      <td>...</td>\n",
       "      <td>2.0</td>\n",
       "      <td>2.0</td>\n",
       "      <td>2.0</td>\n",
       "      <td>2.0</td>\n",
       "      <td>2.0</td>\n",
       "      <td>2.0</td>\n",
       "      <td>2.0</td>\n",
       "      <td>2.0</td>\n",
       "      <td>2.0</td>\n",
       "      <td>9716.648925</td>\n",
       "    </tr>\n",
       "  </tbody>\n",
       "</table>\n",
       "<p>5604 rows × 307 columns</p>\n",
       "</div>"
      ],
      "text/plain": [
       "          PUMFID  DHH_SEX  AGEGROUP  DHHGMS  WORK  EDUDH04  INCDDIA4  SDCFIMM  \\\n",
       "0     47000000.0      2.0       1.0     3.0   6.0      9.0       4.0      2.0   \n",
       "1     47000001.0      2.0       1.0     3.0   6.0      4.0       3.0      2.0   \n",
       "2     47000002.0      2.0       5.0     3.0   1.0      4.0       3.0      2.0   \n",
       "3     47000003.0      1.0       5.0     2.0   1.0      2.0       3.0      2.0   \n",
       "4     47000004.0      1.0       4.0     3.0   1.0      1.0       2.0      2.0   \n",
       "...          ...      ...       ...     ...   ...      ...       ...      ...   \n",
       "5599  47005599.0      1.0       7.0     1.0   2.0      2.0       3.0      2.0   \n",
       "5600  47005600.0      1.0       5.0     2.0   1.0      2.0       4.0      2.0   \n",
       "5601  47005601.0      2.0       5.0     3.0   2.0      1.0       2.0      2.0   \n",
       "5602  47005602.0      1.0       7.0     2.0   1.0      4.0       3.0      1.0   \n",
       "5603  47005603.0      2.0       5.0     1.0   1.0      2.0       4.0      2.0   \n",
       "\n",
       "      SDCFCB  RACE  ...  OHQ_12L  OHQ_21  OHQ_22  OHQ_23  OHQ_24  OHQ_25  \\\n",
       "0        1.0   1.0  ...      6.0     2.0     2.0     2.0     2.0     2.0   \n",
       "1        1.0   1.0  ...      6.0     2.0     2.0     2.0     2.0     2.0   \n",
       "2        1.0   1.0  ...      2.0     1.0     2.0     2.0     2.0     1.0   \n",
       "3        1.0   1.0  ...      2.0     2.0     2.0     2.0     2.0     2.0   \n",
       "4        1.0   1.0  ...      2.0     1.0     2.0     1.0     2.0     2.0   \n",
       "...      ...   ...  ...      ...     ...     ...     ...     ...     ...   \n",
       "5599     1.0   1.0  ...      6.0     2.0     2.0     2.0     2.0     2.0   \n",
       "5600     1.0   1.0  ...      6.0     2.0     1.0     2.0     2.0     2.0   \n",
       "5601     1.0   1.0  ...      2.0     2.0     1.0     2.0     2.0     2.0   \n",
       "5602     2.0   1.0  ...      6.0     2.0     2.0     2.0     2.0     2.0   \n",
       "5603     1.0   1.0  ...      2.0     2.0     2.0     2.0     2.0     2.0   \n",
       "\n",
       "      OHQ_26  OHQ_27  OHQ_28      WGT_FULL  \n",
       "0        2.0     2.0     2.0    759.257024  \n",
       "1        1.0     2.0     2.0   7287.819719  \n",
       "2        2.0     2.0     2.0   2799.467030  \n",
       "3        2.0     2.0     2.0    685.590528  \n",
       "4        2.0     2.0     2.0    671.006305  \n",
       "...      ...     ...     ...           ...  \n",
       "5599     2.0     2.0     2.0   6091.723978  \n",
       "5600     2.0     2.0     2.0  18314.955345  \n",
       "5601     1.0     2.0     2.0   4806.805193  \n",
       "5602     2.0     2.0     2.0   1336.891937  \n",
       "5603     2.0     2.0     2.0   9716.648925  \n",
       "\n",
       "[5604 rows x 307 columns]"
      ]
     },
     "execution_count": 6,
     "metadata": {},
     "output_type": "execute_result"
    }
   ],
   "source": [
    "testdf"
   ]
  },
  {
   "cell_type": "code",
   "execution_count": 58,
   "id": "cdc187cb",
   "metadata": {},
   "outputs": [],
   "source": [
    "with SAS7BDAT('oral_health_pumf_cycle1.sas7bdat') as f:\n",
    "    rawdt = f.to_data_frame()"
   ]
  },
  {
   "cell_type": "code",
   "execution_count": 59,
   "id": "edc4a502",
   "metadata": {},
   "outputs": [
    {
     "data": {
      "text/html": [
       "<div>\n",
       "<style scoped>\n",
       "    .dataframe tbody tr th:only-of-type {\n",
       "        vertical-align: middle;\n",
       "    }\n",
       "\n",
       "    .dataframe tbody tr th {\n",
       "        vertical-align: top;\n",
       "    }\n",
       "\n",
       "    .dataframe thead th {\n",
       "        text-align: right;\n",
       "    }\n",
       "</style>\n",
       "<table border=\"1\" class=\"dataframe\">\n",
       "  <thead>\n",
       "    <tr style=\"text-align: right;\">\n",
       "      <th></th>\n",
       "      <th>PUMFID</th>\n",
       "      <th>DHH_SEX</th>\n",
       "      <th>AGEGROUP</th>\n",
       "      <th>DHHGMS</th>\n",
       "      <th>WORK</th>\n",
       "      <th>EDUDH04</th>\n",
       "      <th>INCDDIA4</th>\n",
       "      <th>SDCFIMM</th>\n",
       "      <th>SDCFCB</th>\n",
       "      <th>RACE</th>\n",
       "      <th>...</th>\n",
       "      <th>OHQ_12L</th>\n",
       "      <th>OHQ_21</th>\n",
       "      <th>OHQ_22</th>\n",
       "      <th>OHQ_23</th>\n",
       "      <th>OHQ_24</th>\n",
       "      <th>OHQ_25</th>\n",
       "      <th>OHQ_26</th>\n",
       "      <th>OHQ_27</th>\n",
       "      <th>OHQ_28</th>\n",
       "      <th>WGT_FULL</th>\n",
       "    </tr>\n",
       "  </thead>\n",
       "  <tbody>\n",
       "    <tr>\n",
       "      <th>0</th>\n",
       "      <td>47000000.0</td>\n",
       "      <td>2.0</td>\n",
       "      <td>1.0</td>\n",
       "      <td>3.0</td>\n",
       "      <td>6.0</td>\n",
       "      <td>9.0</td>\n",
       "      <td>4.0</td>\n",
       "      <td>2.0</td>\n",
       "      <td>1.0</td>\n",
       "      <td>1.0</td>\n",
       "      <td>...</td>\n",
       "      <td>6.0</td>\n",
       "      <td>2.0</td>\n",
       "      <td>2.0</td>\n",
       "      <td>2.0</td>\n",
       "      <td>2.0</td>\n",
       "      <td>2.0</td>\n",
       "      <td>2.0</td>\n",
       "      <td>2.0</td>\n",
       "      <td>2.0</td>\n",
       "      <td>759.257024</td>\n",
       "    </tr>\n",
       "    <tr>\n",
       "      <th>1</th>\n",
       "      <td>47000001.0</td>\n",
       "      <td>2.0</td>\n",
       "      <td>1.0</td>\n",
       "      <td>3.0</td>\n",
       "      <td>6.0</td>\n",
       "      <td>4.0</td>\n",
       "      <td>3.0</td>\n",
       "      <td>2.0</td>\n",
       "      <td>1.0</td>\n",
       "      <td>1.0</td>\n",
       "      <td>...</td>\n",
       "      <td>6.0</td>\n",
       "      <td>2.0</td>\n",
       "      <td>2.0</td>\n",
       "      <td>2.0</td>\n",
       "      <td>2.0</td>\n",
       "      <td>2.0</td>\n",
       "      <td>1.0</td>\n",
       "      <td>2.0</td>\n",
       "      <td>2.0</td>\n",
       "      <td>7287.819719</td>\n",
       "    </tr>\n",
       "    <tr>\n",
       "      <th>2</th>\n",
       "      <td>47000002.0</td>\n",
       "      <td>2.0</td>\n",
       "      <td>5.0</td>\n",
       "      <td>3.0</td>\n",
       "      <td>1.0</td>\n",
       "      <td>4.0</td>\n",
       "      <td>3.0</td>\n",
       "      <td>2.0</td>\n",
       "      <td>1.0</td>\n",
       "      <td>1.0</td>\n",
       "      <td>...</td>\n",
       "      <td>2.0</td>\n",
       "      <td>1.0</td>\n",
       "      <td>2.0</td>\n",
       "      <td>2.0</td>\n",
       "      <td>2.0</td>\n",
       "      <td>1.0</td>\n",
       "      <td>2.0</td>\n",
       "      <td>2.0</td>\n",
       "      <td>2.0</td>\n",
       "      <td>2799.467030</td>\n",
       "    </tr>\n",
       "    <tr>\n",
       "      <th>3</th>\n",
       "      <td>47000003.0</td>\n",
       "      <td>1.0</td>\n",
       "      <td>5.0</td>\n",
       "      <td>2.0</td>\n",
       "      <td>1.0</td>\n",
       "      <td>2.0</td>\n",
       "      <td>3.0</td>\n",
       "      <td>2.0</td>\n",
       "      <td>1.0</td>\n",
       "      <td>1.0</td>\n",
       "      <td>...</td>\n",
       "      <td>2.0</td>\n",
       "      <td>2.0</td>\n",
       "      <td>2.0</td>\n",
       "      <td>2.0</td>\n",
       "      <td>2.0</td>\n",
       "      <td>2.0</td>\n",
       "      <td>2.0</td>\n",
       "      <td>2.0</td>\n",
       "      <td>2.0</td>\n",
       "      <td>685.590528</td>\n",
       "    </tr>\n",
       "    <tr>\n",
       "      <th>4</th>\n",
       "      <td>47000004.0</td>\n",
       "      <td>1.0</td>\n",
       "      <td>4.0</td>\n",
       "      <td>3.0</td>\n",
       "      <td>1.0</td>\n",
       "      <td>1.0</td>\n",
       "      <td>2.0</td>\n",
       "      <td>2.0</td>\n",
       "      <td>1.0</td>\n",
       "      <td>1.0</td>\n",
       "      <td>...</td>\n",
       "      <td>2.0</td>\n",
       "      <td>1.0</td>\n",
       "      <td>2.0</td>\n",
       "      <td>1.0</td>\n",
       "      <td>2.0</td>\n",
       "      <td>2.0</td>\n",
       "      <td>2.0</td>\n",
       "      <td>2.0</td>\n",
       "      <td>2.0</td>\n",
       "      <td>671.006305</td>\n",
       "    </tr>\n",
       "    <tr>\n",
       "      <th>...</th>\n",
       "      <td>...</td>\n",
       "      <td>...</td>\n",
       "      <td>...</td>\n",
       "      <td>...</td>\n",
       "      <td>...</td>\n",
       "      <td>...</td>\n",
       "      <td>...</td>\n",
       "      <td>...</td>\n",
       "      <td>...</td>\n",
       "      <td>...</td>\n",
       "      <td>...</td>\n",
       "      <td>...</td>\n",
       "      <td>...</td>\n",
       "      <td>...</td>\n",
       "      <td>...</td>\n",
       "      <td>...</td>\n",
       "      <td>...</td>\n",
       "      <td>...</td>\n",
       "      <td>...</td>\n",
       "      <td>...</td>\n",
       "      <td>...</td>\n",
       "    </tr>\n",
       "    <tr>\n",
       "      <th>5599</th>\n",
       "      <td>47005599.0</td>\n",
       "      <td>1.0</td>\n",
       "      <td>7.0</td>\n",
       "      <td>1.0</td>\n",
       "      <td>2.0</td>\n",
       "      <td>2.0</td>\n",
       "      <td>3.0</td>\n",
       "      <td>2.0</td>\n",
       "      <td>1.0</td>\n",
       "      <td>1.0</td>\n",
       "      <td>...</td>\n",
       "      <td>6.0</td>\n",
       "      <td>2.0</td>\n",
       "      <td>2.0</td>\n",
       "      <td>2.0</td>\n",
       "      <td>2.0</td>\n",
       "      <td>2.0</td>\n",
       "      <td>2.0</td>\n",
       "      <td>2.0</td>\n",
       "      <td>2.0</td>\n",
       "      <td>6091.723978</td>\n",
       "    </tr>\n",
       "    <tr>\n",
       "      <th>5600</th>\n",
       "      <td>47005600.0</td>\n",
       "      <td>1.0</td>\n",
       "      <td>5.0</td>\n",
       "      <td>2.0</td>\n",
       "      <td>1.0</td>\n",
       "      <td>2.0</td>\n",
       "      <td>4.0</td>\n",
       "      <td>2.0</td>\n",
       "      <td>1.0</td>\n",
       "      <td>1.0</td>\n",
       "      <td>...</td>\n",
       "      <td>6.0</td>\n",
       "      <td>2.0</td>\n",
       "      <td>1.0</td>\n",
       "      <td>2.0</td>\n",
       "      <td>2.0</td>\n",
       "      <td>2.0</td>\n",
       "      <td>2.0</td>\n",
       "      <td>2.0</td>\n",
       "      <td>2.0</td>\n",
       "      <td>18314.955345</td>\n",
       "    </tr>\n",
       "    <tr>\n",
       "      <th>5601</th>\n",
       "      <td>47005601.0</td>\n",
       "      <td>2.0</td>\n",
       "      <td>5.0</td>\n",
       "      <td>3.0</td>\n",
       "      <td>2.0</td>\n",
       "      <td>1.0</td>\n",
       "      <td>2.0</td>\n",
       "      <td>2.0</td>\n",
       "      <td>1.0</td>\n",
       "      <td>1.0</td>\n",
       "      <td>...</td>\n",
       "      <td>2.0</td>\n",
       "      <td>2.0</td>\n",
       "      <td>1.0</td>\n",
       "      <td>2.0</td>\n",
       "      <td>2.0</td>\n",
       "      <td>2.0</td>\n",
       "      <td>1.0</td>\n",
       "      <td>2.0</td>\n",
       "      <td>2.0</td>\n",
       "      <td>4806.805193</td>\n",
       "    </tr>\n",
       "    <tr>\n",
       "      <th>5602</th>\n",
       "      <td>47005602.0</td>\n",
       "      <td>1.0</td>\n",
       "      <td>7.0</td>\n",
       "      <td>2.0</td>\n",
       "      <td>1.0</td>\n",
       "      <td>4.0</td>\n",
       "      <td>3.0</td>\n",
       "      <td>1.0</td>\n",
       "      <td>2.0</td>\n",
       "      <td>1.0</td>\n",
       "      <td>...</td>\n",
       "      <td>6.0</td>\n",
       "      <td>2.0</td>\n",
       "      <td>2.0</td>\n",
       "      <td>2.0</td>\n",
       "      <td>2.0</td>\n",
       "      <td>2.0</td>\n",
       "      <td>2.0</td>\n",
       "      <td>2.0</td>\n",
       "      <td>2.0</td>\n",
       "      <td>1336.891937</td>\n",
       "    </tr>\n",
       "    <tr>\n",
       "      <th>5603</th>\n",
       "      <td>47005603.0</td>\n",
       "      <td>2.0</td>\n",
       "      <td>5.0</td>\n",
       "      <td>1.0</td>\n",
       "      <td>1.0</td>\n",
       "      <td>2.0</td>\n",
       "      <td>4.0</td>\n",
       "      <td>2.0</td>\n",
       "      <td>1.0</td>\n",
       "      <td>1.0</td>\n",
       "      <td>...</td>\n",
       "      <td>2.0</td>\n",
       "      <td>2.0</td>\n",
       "      <td>2.0</td>\n",
       "      <td>2.0</td>\n",
       "      <td>2.0</td>\n",
       "      <td>2.0</td>\n",
       "      <td>2.0</td>\n",
       "      <td>2.0</td>\n",
       "      <td>2.0</td>\n",
       "      <td>9716.648925</td>\n",
       "    </tr>\n",
       "  </tbody>\n",
       "</table>\n",
       "<p>5604 rows × 307 columns</p>\n",
       "</div>"
      ],
      "text/plain": [
       "          PUMFID  DHH_SEX  AGEGROUP  DHHGMS  WORK  EDUDH04  INCDDIA4  SDCFIMM  \\\n",
       "0     47000000.0      2.0       1.0     3.0   6.0      9.0       4.0      2.0   \n",
       "1     47000001.0      2.0       1.0     3.0   6.0      4.0       3.0      2.0   \n",
       "2     47000002.0      2.0       5.0     3.0   1.0      4.0       3.0      2.0   \n",
       "3     47000003.0      1.0       5.0     2.0   1.0      2.0       3.0      2.0   \n",
       "4     47000004.0      1.0       4.0     3.0   1.0      1.0       2.0      2.0   \n",
       "...          ...      ...       ...     ...   ...      ...       ...      ...   \n",
       "5599  47005599.0      1.0       7.0     1.0   2.0      2.0       3.0      2.0   \n",
       "5600  47005600.0      1.0       5.0     2.0   1.0      2.0       4.0      2.0   \n",
       "5601  47005601.0      2.0       5.0     3.0   2.0      1.0       2.0      2.0   \n",
       "5602  47005602.0      1.0       7.0     2.0   1.0      4.0       3.0      1.0   \n",
       "5603  47005603.0      2.0       5.0     1.0   1.0      2.0       4.0      2.0   \n",
       "\n",
       "      SDCFCB  RACE  ...  OHQ_12L  OHQ_21  OHQ_22  OHQ_23  OHQ_24  OHQ_25  \\\n",
       "0        1.0   1.0  ...      6.0     2.0     2.0     2.0     2.0     2.0   \n",
       "1        1.0   1.0  ...      6.0     2.0     2.0     2.0     2.0     2.0   \n",
       "2        1.0   1.0  ...      2.0     1.0     2.0     2.0     2.0     1.0   \n",
       "3        1.0   1.0  ...      2.0     2.0     2.0     2.0     2.0     2.0   \n",
       "4        1.0   1.0  ...      2.0     1.0     2.0     1.0     2.0     2.0   \n",
       "...      ...   ...  ...      ...     ...     ...     ...     ...     ...   \n",
       "5599     1.0   1.0  ...      6.0     2.0     2.0     2.0     2.0     2.0   \n",
       "5600     1.0   1.0  ...      6.0     2.0     1.0     2.0     2.0     2.0   \n",
       "5601     1.0   1.0  ...      2.0     2.0     1.0     2.0     2.0     2.0   \n",
       "5602     2.0   1.0  ...      6.0     2.0     2.0     2.0     2.0     2.0   \n",
       "5603     1.0   1.0  ...      2.0     2.0     2.0     2.0     2.0     2.0   \n",
       "\n",
       "      OHQ_26  OHQ_27  OHQ_28      WGT_FULL  \n",
       "0        2.0     2.0     2.0    759.257024  \n",
       "1        1.0     2.0     2.0   7287.819719  \n",
       "2        2.0     2.0     2.0   2799.467030  \n",
       "3        2.0     2.0     2.0    685.590528  \n",
       "4        2.0     2.0     2.0    671.006305  \n",
       "...      ...     ...     ...           ...  \n",
       "5599     2.0     2.0     2.0   6091.723978  \n",
       "5600     2.0     2.0     2.0  18314.955345  \n",
       "5601     1.0     2.0     2.0   4806.805193  \n",
       "5602     2.0     2.0     2.0   1336.891937  \n",
       "5603     2.0     2.0     2.0   9716.648925  \n",
       "\n",
       "[5604 rows x 307 columns]"
      ]
     },
     "execution_count": 59,
     "metadata": {},
     "output_type": "execute_result"
    }
   ],
   "source": [
    "rawdt"
   ]
  },
  {
   "cell_type": "code",
   "execution_count": 3,
   "id": "fbd8451b",
   "metadata": {},
   "outputs": [
    {
     "data": {
      "text/html": [
       "<div>\n",
       "<style scoped>\n",
       "    .dataframe tbody tr th:only-of-type {\n",
       "        vertical-align: middle;\n",
       "    }\n",
       "\n",
       "    .dataframe tbody tr th {\n",
       "        vertical-align: top;\n",
       "    }\n",
       "\n",
       "    .dataframe thead th {\n",
       "        text-align: right;\n",
       "    }\n",
       "</style>\n",
       "<table border=\"1\" class=\"dataframe\">\n",
       "  <thead>\n",
       "    <tr style=\"text-align: right;\">\n",
       "      <th></th>\n",
       "      <th>DHH_SEX</th>\n",
       "      <th>AGEGROUP</th>\n",
       "      <th>WORK</th>\n",
       "      <th>INCDDIA4</th>\n",
       "      <th>RACE</th>\n",
       "      <th>SMKDGSTY</th>\n",
       "      <th>OHM_33</th>\n",
       "      <th>OHM_41</th>\n",
       "      <th>OHM_43</th>\n",
       "      <th>OHE_61</th>\n",
       "      <th>OHE_63</th>\n",
       "      <th>OHE_64</th>\n",
       "      <th>OHE_65</th>\n",
       "      <th>OHQ_21</th>\n",
       "    </tr>\n",
       "  </thead>\n",
       "  <tbody>\n",
       "    <tr>\n",
       "      <th>0</th>\n",
       "      <td>2.0</td>\n",
       "      <td>1.0</td>\n",
       "      <td>6.0</td>\n",
       "      <td>4.0</td>\n",
       "      <td>1.0</td>\n",
       "      <td>9.0</td>\n",
       "      <td>1.0</td>\n",
       "      <td>2.0</td>\n",
       "      <td>1.0</td>\n",
       "      <td>6.0</td>\n",
       "      <td>6.0</td>\n",
       "      <td>6.0</td>\n",
       "      <td>6.0</td>\n",
       "      <td>2.0</td>\n",
       "    </tr>\n",
       "    <tr>\n",
       "      <th>1</th>\n",
       "      <td>2.0</td>\n",
       "      <td>1.0</td>\n",
       "      <td>6.0</td>\n",
       "      <td>3.0</td>\n",
       "      <td>1.0</td>\n",
       "      <td>9.0</td>\n",
       "      <td>2.0</td>\n",
       "      <td>1.0</td>\n",
       "      <td>1.0</td>\n",
       "      <td>6.0</td>\n",
       "      <td>6.0</td>\n",
       "      <td>6.0</td>\n",
       "      <td>6.0</td>\n",
       "      <td>2.0</td>\n",
       "    </tr>\n",
       "    <tr>\n",
       "      <th>2</th>\n",
       "      <td>2.0</td>\n",
       "      <td>5.0</td>\n",
       "      <td>1.0</td>\n",
       "      <td>3.0</td>\n",
       "      <td>1.0</td>\n",
       "      <td>2.0</td>\n",
       "      <td>2.0</td>\n",
       "      <td>2.0</td>\n",
       "      <td>1.0</td>\n",
       "      <td>6.0</td>\n",
       "      <td>6.0</td>\n",
       "      <td>6.0</td>\n",
       "      <td>6.0</td>\n",
       "      <td>1.0</td>\n",
       "    </tr>\n",
       "    <tr>\n",
       "      <th>3</th>\n",
       "      <td>1.0</td>\n",
       "      <td>5.0</td>\n",
       "      <td>1.0</td>\n",
       "      <td>3.0</td>\n",
       "      <td>1.0</td>\n",
       "      <td>2.0</td>\n",
       "      <td>2.0</td>\n",
       "      <td>2.0</td>\n",
       "      <td>2.0</td>\n",
       "      <td>6.0</td>\n",
       "      <td>6.0</td>\n",
       "      <td>6.0</td>\n",
       "      <td>6.0</td>\n",
       "      <td>2.0</td>\n",
       "    </tr>\n",
       "    <tr>\n",
       "      <th>4</th>\n",
       "      <td>1.0</td>\n",
       "      <td>4.0</td>\n",
       "      <td>1.0</td>\n",
       "      <td>2.0</td>\n",
       "      <td>1.0</td>\n",
       "      <td>1.0</td>\n",
       "      <td>4.0</td>\n",
       "      <td>1.0</td>\n",
       "      <td>2.0</td>\n",
       "      <td>2.0</td>\n",
       "      <td>6.0</td>\n",
       "      <td>6.0</td>\n",
       "      <td>6.0</td>\n",
       "      <td>1.0</td>\n",
       "    </tr>\n",
       "    <tr>\n",
       "      <th>...</th>\n",
       "      <td>...</td>\n",
       "      <td>...</td>\n",
       "      <td>...</td>\n",
       "      <td>...</td>\n",
       "      <td>...</td>\n",
       "      <td>...</td>\n",
       "      <td>...</td>\n",
       "      <td>...</td>\n",
       "      <td>...</td>\n",
       "      <td>...</td>\n",
       "      <td>...</td>\n",
       "      <td>...</td>\n",
       "      <td>...</td>\n",
       "      <td>...</td>\n",
       "    </tr>\n",
       "    <tr>\n",
       "      <th>5599</th>\n",
       "      <td>1.0</td>\n",
       "      <td>7.0</td>\n",
       "      <td>2.0</td>\n",
       "      <td>3.0</td>\n",
       "      <td>1.0</td>\n",
       "      <td>1.0</td>\n",
       "      <td>4.0</td>\n",
       "      <td>2.0</td>\n",
       "      <td>2.0</td>\n",
       "      <td>6.0</td>\n",
       "      <td>6.0</td>\n",
       "      <td>6.0</td>\n",
       "      <td>6.0</td>\n",
       "      <td>2.0</td>\n",
       "    </tr>\n",
       "    <tr>\n",
       "      <th>5600</th>\n",
       "      <td>1.0</td>\n",
       "      <td>5.0</td>\n",
       "      <td>1.0</td>\n",
       "      <td>4.0</td>\n",
       "      <td>1.0</td>\n",
       "      <td>1.0</td>\n",
       "      <td>3.0</td>\n",
       "      <td>2.0</td>\n",
       "      <td>1.0</td>\n",
       "      <td>2.0</td>\n",
       "      <td>6.0</td>\n",
       "      <td>6.0</td>\n",
       "      <td>6.0</td>\n",
       "      <td>2.0</td>\n",
       "    </tr>\n",
       "    <tr>\n",
       "      <th>5601</th>\n",
       "      <td>2.0</td>\n",
       "      <td>5.0</td>\n",
       "      <td>2.0</td>\n",
       "      <td>2.0</td>\n",
       "      <td>1.0</td>\n",
       "      <td>1.0</td>\n",
       "      <td>2.0</td>\n",
       "      <td>2.0</td>\n",
       "      <td>1.0</td>\n",
       "      <td>2.0</td>\n",
       "      <td>6.0</td>\n",
       "      <td>2.0</td>\n",
       "      <td>6.0</td>\n",
       "      <td>2.0</td>\n",
       "    </tr>\n",
       "    <tr>\n",
       "      <th>5602</th>\n",
       "      <td>1.0</td>\n",
       "      <td>7.0</td>\n",
       "      <td>1.0</td>\n",
       "      <td>3.0</td>\n",
       "      <td>1.0</td>\n",
       "      <td>1.0</td>\n",
       "      <td>4.0</td>\n",
       "      <td>1.0</td>\n",
       "      <td>2.0</td>\n",
       "      <td>6.0</td>\n",
       "      <td>6.0</td>\n",
       "      <td>6.0</td>\n",
       "      <td>6.0</td>\n",
       "      <td>2.0</td>\n",
       "    </tr>\n",
       "    <tr>\n",
       "      <th>5603</th>\n",
       "      <td>2.0</td>\n",
       "      <td>5.0</td>\n",
       "      <td>1.0</td>\n",
       "      <td>4.0</td>\n",
       "      <td>1.0</td>\n",
       "      <td>3.0</td>\n",
       "      <td>1.0</td>\n",
       "      <td>2.0</td>\n",
       "      <td>1.0</td>\n",
       "      <td>2.0</td>\n",
       "      <td>6.0</td>\n",
       "      <td>6.0</td>\n",
       "      <td>6.0</td>\n",
       "      <td>2.0</td>\n",
       "    </tr>\n",
       "  </tbody>\n",
       "</table>\n",
       "<p>5604 rows × 14 columns</p>\n",
       "</div>"
      ],
      "text/plain": [
       "      DHH_SEX  AGEGROUP  WORK  INCDDIA4  RACE  SMKDGSTY  OHM_33  OHM_41  \\\n",
       "0         2.0       1.0   6.0       4.0   1.0       9.0     1.0     2.0   \n",
       "1         2.0       1.0   6.0       3.0   1.0       9.0     2.0     1.0   \n",
       "2         2.0       5.0   1.0       3.0   1.0       2.0     2.0     2.0   \n",
       "3         1.0       5.0   1.0       3.0   1.0       2.0     2.0     2.0   \n",
       "4         1.0       4.0   1.0       2.0   1.0       1.0     4.0     1.0   \n",
       "...       ...       ...   ...       ...   ...       ...     ...     ...   \n",
       "5599      1.0       7.0   2.0       3.0   1.0       1.0     4.0     2.0   \n",
       "5600      1.0       5.0   1.0       4.0   1.0       1.0     3.0     2.0   \n",
       "5601      2.0       5.0   2.0       2.0   1.0       1.0     2.0     2.0   \n",
       "5602      1.0       7.0   1.0       3.0   1.0       1.0     4.0     1.0   \n",
       "5603      2.0       5.0   1.0       4.0   1.0       3.0     1.0     2.0   \n",
       "\n",
       "      OHM_43  OHE_61  OHE_63  OHE_64  OHE_65  OHQ_21  \n",
       "0        1.0     6.0     6.0     6.0     6.0     2.0  \n",
       "1        1.0     6.0     6.0     6.0     6.0     2.0  \n",
       "2        1.0     6.0     6.0     6.0     6.0     1.0  \n",
       "3        2.0     6.0     6.0     6.0     6.0     2.0  \n",
       "4        2.0     2.0     6.0     6.0     6.0     1.0  \n",
       "...      ...     ...     ...     ...     ...     ...  \n",
       "5599     2.0     6.0     6.0     6.0     6.0     2.0  \n",
       "5600     1.0     2.0     6.0     6.0     6.0     2.0  \n",
       "5601     1.0     2.0     6.0     2.0     6.0     2.0  \n",
       "5602     2.0     6.0     6.0     6.0     6.0     2.0  \n",
       "5603     1.0     2.0     6.0     6.0     6.0     2.0  \n",
       "\n",
       "[5604 rows x 14 columns]"
      ]
     },
     "execution_count": 3,
     "metadata": {},
     "output_type": "execute_result"
    }
   ],
   "source": [
    "df = rawdt[['DHH_SEX', 'AGEGROUP', 'WORK', 'INCDDIA4', 'RACE', 'SMKDGSTY', 'OHM_33',\n",
    "            'OHM_41', 'OHM_43', 'OHE_61', 'OHE_63', 'OHE_64', 'OHE_65', 'OHQ_21']].copy()\n",
    "df"
   ]
  },
  {
   "cell_type": "code",
   "execution_count": 6,
   "id": "7bb749e5",
   "metadata": {},
   "outputs": [
    {
     "name": "stderr",
     "output_type": "stream",
     "text": [
      "C:\\Users\\amyc0\\AppData\\Local\\Temp\\ipykernel_38004\\1638191974.py:5: SettingWithCopyWarning: \n",
      "A value is trying to be set on a copy of a slice from a DataFrame.\n",
      "Try using .loc[row_indexer,col_indexer] = value instead\n",
      "\n",
      "See the caveats in the documentation: https://pandas.pydata.org/pandas-docs/stable/user_guide/indexing.html#returning-a-view-versus-a-copy\n",
      "  df['OHM_41'] = df['OHM_41'].replace(2, 0)\n"
     ]
    }
   ],
   "source": [
    "# drop the unanswerd questions\n",
    "# transform yes to 1, no to 0\n",
    "\n",
    "df = df.loc[df['OHM_41']<=2] # avoidanc of dental visit\n",
    "df['OHM_41'] = df['OHM_41'].replace(2, 0)\n",
    "\n",
    "df = df.loc[df['OHM_33']<=5] # frequncy of dental visit\n",
    "df['OHM_33'] = df['OHM_33'].replace({2: 1, 3: 0, 4: 0, 5:0})\n",
    "\n",
    "df = df.loc[df['OHM_43']<=2] # having some dental insurance\n",
    "df['OHM_43'] = df['OHM_43'].replace(2, 0)\n",
    "\n",
    "df = df.loc[df['OHQ_21']<=2] # toothache or not\n",
    "df['OHQ_21'] = df['OHQ_21'].replace(2, 0)\n",
    "\n",
    "# create a new column of number counting number of urgent treatment needed from 0-4\n",
    "# urgent - OHE_61, 63, 64, 65,\n",
    "df = df.loc[df['OHE_61']<=6]\n",
    "df['OHE_61'] = df['OHE_61'].replace({2: 0, 6: 0})\n",
    "df = df.loc[df['OHE_63']<=6]\n",
    "df['OHE_63'] = df['OHE_63'].replace({2: 0, 6: 0})\n",
    "df = df.loc[df['OHE_64']<=6]\n",
    "df['OHE_64'] = df['OHE_64'].replace({2: 0, 6: 0})\n",
    "df = df.loc[df['OHE_65']<=6]\n",
    "df['OHE_65'] = df['OHE_65'].replace({2: 0, 6: 0})"
   ]
  },
  {
   "cell_type": "code",
   "execution_count": 6,
   "id": "df5f8f4b",
   "metadata": {},
   "outputs": [],
   "source": [
    "df['num_urgent'] = df[['OHE_61', 'OHE_63', 'OHE_64', 'OHE_65']].apply(lambda row: (row == 1).sum(), axis=1)\n",
    "# only 71 people need urgent treatment\n",
    "# by OHQ_21, 532 people are suffering from toothache"
   ]
  },
  {
   "cell_type": "code",
   "execution_count": 7,
   "id": "233393d4",
   "metadata": {},
   "outputs": [
    {
     "data": {
      "text/plain": [
       "1.0    4288\n",
       "0.0    1260\n",
       "Name: OHM_33, dtype: int64"
      ]
     },
     "execution_count": 7,
     "metadata": {},
     "output_type": "execute_result"
    }
   ],
   "source": [
    "df['OHM_33'].value_counts()"
   ]
  },
  {
   "cell_type": "code",
   "execution_count": 40,
   "id": "c572e4ce",
   "metadata": {},
   "outputs": [
    {
     "data": {
      "text/plain": [
       "count    5548.000000\n",
       "mean        0.095890\n",
       "std         0.294467\n",
       "min         0.000000\n",
       "25%         0.000000\n",
       "50%         0.000000\n",
       "75%         0.000000\n",
       "max         1.000000\n",
       "Name: OHQ_21, dtype: float64"
      ]
     },
     "execution_count": 40,
     "metadata": {},
     "output_type": "execute_result"
    }
   ],
   "source": [
    "df['OHQ_21'].describe()"
   ]
  },
  {
   "cell_type": "code",
   "execution_count": 44,
   "id": "3e911a1f",
   "metadata": {},
   "outputs": [
    {
     "data": {
      "text/plain": [
       "count    5548.000000\n",
       "mean        0.017664\n",
       "std         0.172087\n",
       "min         0.000000\n",
       "25%         0.000000\n",
       "50%         0.000000\n",
       "75%         0.000000\n",
       "max         4.000000\n",
       "Name: num_urgent, dtype: float64"
      ]
     },
     "execution_count": 44,
     "metadata": {},
     "output_type": "execute_result"
    }
   ],
   "source": [
    "df['num_urgent'].describe()"
   ]
  },
  {
   "cell_type": "code",
   "execution_count": 16,
   "id": "9b6a81aa",
   "metadata": {},
   "outputs": [],
   "source": [
    "# Figure 1: percentage difference of visit at once a year - avoidance\n",
    "\n",
    "# step 1: For groups with and wihout insurance calculate the two percentages.\n",
    "some_insurance = df.groupby('OHM_43').get_group(1)\n",
    "no_insurance = df.groupby('OHM_43').get_group(0)\n",
    "\n",
    "    # calculate the percentage for at least one visit per year\n",
    "ins_visit = some_insurance['OHM_33'].mean()\n",
    "noins_visit = no_insurance['OHM_33'].mean()\n",
    "\n",
    "    # precentage for avoidance\n",
    "ins_avoid = some_insurance['OHM_41'].mean()\n",
    "noins_avoid = no_insurance['OHM_41'].mean()\n",
    "\n",
    "    # percentage for those who don't have a regular check up\n",
    "ins_irr = 1 - ins_visit - ins_avoid\n",
    "noins_irr = 1 - noins_visit - noins_avoid\n",
    "\n",
    "# step 2: subtraction: % visit - % avoid\n",
    "ins_diff = (ins_visit - ins_avoid) * 100\n",
    "noins_diff = (noins_visit - noins_avoid) * 100\n",
    "\n",
    "\n",
    "# step 3: Calculate the proportional increase\n",
    "ins_prop = (ins_visit - ins_avoid)/ins_avoid * 100\n",
    "noins_prop = (noins_visit - noins_avoid)/noins_avoid * 100\n",
    "\n",
    "\n"
   ]
  },
  {
   "cell_type": "code",
   "execution_count": 72,
   "id": "6671d8ae",
   "metadata": {},
   "outputs": [
    {
     "ename": "NameError",
     "evalue": "name 'ins_diff' is not defined",
     "output_type": "error",
     "traceback": [
      "\u001b[1;31m---------------------------------------------------------------------------\u001b[0m",
      "\u001b[1;31mNameError\u001b[0m                                 Traceback (most recent call last)",
      "\u001b[1;32m~\\AppData\\Local\\Temp\\ipykernel_17968\\3179205975.py\u001b[0m in \u001b[0;36m<module>\u001b[1;34m\u001b[0m\n\u001b[1;32m----> 1\u001b[1;33m \u001b[0mvalues\u001b[0m \u001b[1;33m=\u001b[0m \u001b[1;33m[\u001b[0m\u001b[0mins_diff\u001b[0m\u001b[1;33m,\u001b[0m \u001b[0mnoins_diff\u001b[0m\u001b[1;33m]\u001b[0m\u001b[1;33m\u001b[0m\u001b[1;33m\u001b[0m\u001b[0m\n\u001b[0m\u001b[0;32m      2\u001b[0m \u001b[0mcategories\u001b[0m \u001b[1;33m=\u001b[0m \u001b[1;33m[\u001b[0m\u001b[1;34m'Some Insurance Coverage'\u001b[0m\u001b[1;33m,\u001b[0m \u001b[1;34m'No Insurance Coverage'\u001b[0m\u001b[1;33m]\u001b[0m\u001b[1;33m\u001b[0m\u001b[1;33m\u001b[0m\u001b[0m\n\u001b[0;32m      3\u001b[0m \u001b[1;33m\u001b[0m\u001b[0m\n\u001b[0;32m      4\u001b[0m \u001b[0mplt\u001b[0m\u001b[1;33m.\u001b[0m\u001b[0mfigure\u001b[0m\u001b[1;33m(\u001b[0m\u001b[0mfigsize\u001b[0m\u001b[1;33m=\u001b[0m\u001b[1;33m(\u001b[0m\u001b[1;36m6\u001b[0m\u001b[1;33m,\u001b[0m \u001b[1;36m5\u001b[0m\u001b[1;33m)\u001b[0m\u001b[1;33m)\u001b[0m\u001b[1;33m\u001b[0m\u001b[1;33m\u001b[0m\u001b[0m\n\u001b[0;32m      5\u001b[0m \u001b[0mbars\u001b[0m \u001b[1;33m=\u001b[0m \u001b[0mplt\u001b[0m\u001b[1;33m.\u001b[0m\u001b[0mbar\u001b[0m\u001b[1;33m(\u001b[0m\u001b[0mcategories\u001b[0m\u001b[1;33m,\u001b[0m \u001b[0mvalues\u001b[0m\u001b[1;33m,\u001b[0m \u001b[0mcolor\u001b[0m\u001b[1;33m=\u001b[0m\u001b[1;33m[\u001b[0m\u001b[1;34m'skyblue'\u001b[0m\u001b[1;33m,\u001b[0m \u001b[1;34m'salmon'\u001b[0m\u001b[1;33m]\u001b[0m\u001b[1;33m)\u001b[0m\u001b[1;33m\u001b[0m\u001b[1;33m\u001b[0m\u001b[0m\n",
      "\u001b[1;31mNameError\u001b[0m: name 'ins_diff' is not defined"
     ]
    }
   ],
   "source": [
    "values = [ins_diff, noins_diff]\n",
    "categories = ['Some Insurance Coverage', 'No Insurance Coverage']\n",
    "\n",
    "plt.figure(figsize=(6, 5))\n",
    "bars = plt.bar(categories, values, color=['skyblue', 'salmon'])\n",
    "\n",
    "plt.title('Figure 1. Differences in Regular vs. Avoided Dental Visits by Insurance Status', fontsize=14)\n",
    "plt.xlabel('Insurance Status', fontsize=12)\n",
    "plt.ylabel('Percentage Point', fontsize=12)\n",
    "\n",
    "for bar in bars:\n",
    "    yval = bar.get_height()\n",
    "    plt.text(bar.get_x() + bar.get_width()/2, yval, f\"{int(yval)}%\", ha='center', va='bottom')\n",
    "\n",
    "plt.savefig('A2_fig1.png', bbox_inches='tight')\n",
    "plt.show()\n",
    "\n",
    "# am I alllowed to have a simple table listing the results to complement the "
   ]
  },
  {
   "cell_type": "code",
   "execution_count": 12,
   "id": "858aa128",
   "metadata": {},
   "outputs": [
    {
     "data": {
      "text/plain": [
       "0.8503581851950119"
      ]
     },
     "execution_count": 12,
     "metadata": {},
     "output_type": "execute_result"
    }
   ],
   "source": [
    "ins_visit"
   ]
  },
  {
   "cell_type": "code",
   "execution_count": 13,
   "id": "cb714cfc",
   "metadata": {},
   "outputs": [
    {
     "data": {
      "text/plain": [
       "0.6087689713322091"
      ]
     },
     "execution_count": 13,
     "metadata": {},
     "output_type": "execute_result"
    }
   ],
   "source": [
    "noins_visit"
   ]
  },
  {
   "cell_type": "code",
   "execution_count": 14,
   "id": "a54b3e49",
   "metadata": {},
   "outputs": [
    {
     "data": {
      "text/plain": [
       "0.3254637436762226"
      ]
     },
     "execution_count": 14,
     "metadata": {},
     "output_type": "execute_result"
    }
   ],
   "source": [
    "noins_avoid"
   ]
  },
  {
   "cell_type": "code",
   "execution_count": 15,
   "id": "d1490d40",
   "metadata": {},
   "outputs": [
    {
     "data": {
      "text/plain": [
       "0.07773945343592464"
      ]
     },
     "execution_count": 15,
     "metadata": {},
     "output_type": "execute_result"
    }
   ],
   "source": [
    "ins_avoid"
   ]
  },
  {
   "cell_type": "code",
   "execution_count": 18,
   "id": "82d9d041",
   "metadata": {},
   "outputs": [
    {
     "data": {
      "text/plain": [
       "0.06576728499156831"
      ]
     },
     "execution_count": 18,
     "metadata": {},
     "output_type": "execute_result"
    }
   ],
   "source": [
    "noins_irr"
   ]
  },
  {
   "cell_type": "code",
   "execution_count": 19,
   "id": "486c35a9",
   "metadata": {},
   "outputs": [
    {
     "data": {
      "text/plain": [
       "0.07190236136906342"
      ]
     },
     "execution_count": 19,
     "metadata": {},
     "output_type": "execute_result"
    }
   ],
   "source": [
    "ins_irr"
   ]
  },
  {
   "cell_type": "code",
   "execution_count": 36,
   "id": "0eda1277",
   "metadata": {},
   "outputs": [
    {
     "data": {
      "text/html": [
       "<div>\n",
       "<style scoped>\n",
       "    .dataframe tbody tr th:only-of-type {\n",
       "        vertical-align: middle;\n",
       "    }\n",
       "\n",
       "    .dataframe tbody tr th {\n",
       "        vertical-align: top;\n",
       "    }\n",
       "\n",
       "    .dataframe thead th {\n",
       "        text-align: right;\n",
       "    }\n",
       "</style>\n",
       "<table border=\"1\" class=\"dataframe\">\n",
       "  <thead>\n",
       "    <tr style=\"text-align: right;\">\n",
       "      <th></th>\n",
       "      <th>Some Insuranece</th>\n",
       "      <th>No Insurance</th>\n",
       "    </tr>\n",
       "  </thead>\n",
       "  <tbody>\n",
       "    <tr>\n",
       "      <th>Regular Check-ups</th>\n",
       "      <td>85%</td>\n",
       "      <td>61%</td>\n",
       "    </tr>\n",
       "    <tr>\n",
       "      <th>Irregular Check-ups</th>\n",
       "      <td>7%</td>\n",
       "      <td>7%</td>\n",
       "    </tr>\n",
       "    <tr>\n",
       "      <th>Avoid Check-ups</th>\n",
       "      <td>8%</td>\n",
       "      <td>32%</td>\n",
       "    </tr>\n",
       "  </tbody>\n",
       "</table>\n",
       "</div>"
      ],
      "text/plain": [
       "                    Some Insuranece No Insurance\n",
       "Regular Check-ups               85%          61%\n",
       "Irregular Check-ups              7%           7%\n",
       "Avoid Check-ups                  8%          32%"
      ]
     },
     "execution_count": 36,
     "metadata": {},
     "output_type": "execute_result"
    }
   ],
   "source": [
    "table = {\n",
    "    'Some Insuranece': [f\"{round(ins_visit*100)}%\", f\"{round(ins_irr*100)}%\", f\"{round(ins_avoid*100)}%\"],\n",
    "    'No Insurance': [f\"{round(noins_visit*100)}%\", f\"{round(noins_irr*100)}%\", f\"{math.floor(noins_avoid*100)}%\"]\n",
    "}\n",
    "\n",
    "table1 = pd.DataFrame(table)\n",
    "new_index = ['Regular Check-ups', 'Irregular Check-ups', 'Avoid Check-ups']\n",
    "table1.index = new_index\n",
    "\n",
    "table1"
   ]
  },
  {
   "cell_type": "code",
   "execution_count": null,
   "id": "a34e6d20",
   "metadata": {},
   "outputs": [],
   "source": []
  },
  {
   "cell_type": "markdown",
   "id": "828600dc",
   "metadata": {},
   "source": [
    "# Figure 2 and Table 2"
   ]
  },
  {
   "cell_type": "code",
   "execution_count": null,
   "id": "aa8fdd92",
   "metadata": {},
   "outputs": [],
   "source": [
    "# 1. from the - insurade - visit and avoid, calculate the toothache rate 2\n",
    "#    from the - uninsured - visit and avoid, calculate the toothache rate 2\n",
    "\n",
    "# 1. group by - visit - toothache rate\n",
    "#             - acoid - toothache rate\n",
    "# 2. group by "
   ]
  },
  {
   "cell_type": "code",
   "execution_count": null,
   "id": "875ae73c",
   "metadata": {},
   "outputs": [],
   "source": [
    "# similar table as Table 1.1 but examine the toothache rate instead"
   ]
  },
  {
   "cell_type": "code",
   "execution_count": 23,
   "id": "487d7809",
   "metadata": {},
   "outputs": [],
   "source": [
    "# has inruance and visit/avoid toothache rate\n",
    "insvisit_tche = some_insurance.groupby(['OHM_33']).get_group(1)['OHQ_21'].mean()\n",
    "insavoid_tche = some_insurance.groupby(['OHM_33']).get_group(0)['OHQ_21'].mean()\n",
    "\n",
    "# no insurance and visi/avoid toothache rate\n",
    "noinsvisit_tche = no_insurance.groupby(['OHM_33']).get_group(1)['OHQ_21'].mean()\n",
    "noinsavoid_tche = no_insurance.groupby(['OHM_33']).get_group(0)['OHQ_21'].mean()\n"
   ]
  },
  {
   "cell_type": "code",
   "execution_count": 31,
   "id": "56d080a4",
   "metadata": {},
   "outputs": [
    {
     "data": {
      "text/plain": [
       "33.33333333333333"
      ]
     },
     "execution_count": 31,
     "metadata": {},
     "output_type": "execute_result"
    }
   ],
   "source": [
    "# calculate the change in proportion:\n",
    "# for some insurance: \n",
    "rt1 = (11-8)/8*100\n",
    "\n",
    "# for no insurance:\n",
    "rt2 = (12-9)/9*100\n",
    "\n",
    "rt2"
   ]
  },
  {
   "cell_type": "code",
   "execution_count": 226,
   "id": "b5dfaea9",
   "metadata": {},
   "outputs": [
    {
     "data": {
      "text/html": [
       "<div>\n",
       "<style scoped>\n",
       "    .dataframe tbody tr th:only-of-type {\n",
       "        vertical-align: middle;\n",
       "    }\n",
       "\n",
       "    .dataframe tbody tr th {\n",
       "        vertical-align: top;\n",
       "    }\n",
       "\n",
       "    .dataframe thead th {\n",
       "        text-align: right;\n",
       "    }\n",
       "</style>\n",
       "<table border=\"1\" class=\"dataframe\">\n",
       "  <thead>\n",
       "    <tr style=\"text-align: right;\">\n",
       "      <th></th>\n",
       "      <th>Visit Regularly</th>\n",
       "      <th>Avoid to Visit</th>\n",
       "    </tr>\n",
       "  </thead>\n",
       "  <tbody>\n",
       "    <tr>\n",
       "      <th>Some Insuranece</th>\n",
       "      <td>8.6%</td>\n",
       "      <td>11.7%</td>\n",
       "    </tr>\n",
       "    <tr>\n",
       "      <th>No Insurance</th>\n",
       "      <td>9.7%</td>\n",
       "      <td>12.1%</td>\n",
       "    </tr>\n",
       "  </tbody>\n",
       "</table>\n",
       "</div>"
      ],
      "text/plain": [
       "                Visit Regularly Avoid to Visit\n",
       "Some Insuranece            8.6%          11.7%\n",
       "No Insurance               9.7%          12.1%"
      ]
     },
     "execution_count": 226,
     "metadata": {},
     "output_type": "execute_result"
    }
   ],
   "source": [
    "tb2 = {\n",
    "    'Some Insuranece': [f\"{round(insvisit_tche*100, 1)}%\", f\"{round(insavoid_tche*100, 1)}%\"],\n",
    "    'No Insurance': [f\"{round(noinsvisit_tche*100, 1)}%\", f\"{round(noinsavoid_tche*100, 1)}%\"]\n",
    "}\n",
    "\n",
    "table2 = pd.DataFrame(tb2)\n",
    "new_index = ['Visit Regularly', 'Avoid to Visit']\n",
    "table2.index = new_index\n",
    "\n",
    "table2.T"
   ]
  },
  {
   "cell_type": "code",
   "execution_count": 241,
   "id": "2ddff2e8",
   "metadata": {},
   "outputs": [
    {
     "data": {
      "text/plain": [
       "-0.030395136778115523"
      ]
     },
     "execution_count": 241,
     "metadata": {},
     "output_type": "execute_result"
    }
   ],
   "source": [
    "(insavoid_tche - noinsavoid_tche)/noinsavoid_tche"
   ]
  },
  {
   "cell_type": "code",
   "execution_count": 240,
   "id": "51f2e4cf",
   "metadata": {},
   "outputs": [
    {
     "data": {
      "image/png": "[encoded data removed]",
      "text/plain": [
       "<Figure size 1000x400 with 1 Axes>"
      ]
     },
     "metadata": {},
     "output_type": "display_data"
    }
   ],
   "source": [
    "# calculate the relative decrease\n",
    "v_tchert = -round((insvisit_tche - noinsvisit_tche)/noinsvisit_tche, 2) *100\n",
    "a_tchert = -round((insavoid_tche - noinsavoid_tche)/noinsavoid_tche, 2) *100\n",
    "\n",
    "values = [v_tchert, a_tchert]\n",
    "categories = ['Visit Regularly', 'Avoid to Visit']\n",
    "\n",
    "plt.figure(figsize=(10, 4))  # Landscape figure size\n",
    "\n",
    "bars = plt.barh(categories, values, color=['cornflowerblue', 'plum'], height=0.8)\n",
    "plt.ylim(-0.75, len(categories)-0.25)\n",
    "\n",
    "plt.title('Figure 2. Relative Decrease in Toothache after Implementing Insurance by Visit Condition', fontsize=15)\n",
    "plt.ylabel('Visit Condition', fontsize=13)\n",
    "plt.xlabel('Percentage', fontsize=13)\n",
    "\n",
    "# Add percentage text next to each bar\n",
    "for bar in bars:\n",
    "    plt.text(bar.get_width(), bar.get_y() + bar.get_height()/2, f'{int(bar.get_width())}%', \n",
    "             va='center', ha='left')\n",
    "\n",
    "\n",
    "# Format the x-axis to show percentages\n",
    "plt.gca().xaxis.set_major_formatter(mtick.PercentFormatter())\n",
    "\n",
    "plt.tight_layout()  # Adjust layout to fit all labels\n",
    "plt.show()"
   ]
  },
  {
   "cell_type": "code",
   "execution_count": 36,
   "id": "77f923bb",
   "metadata": {},
   "outputs": [],
   "source": [
    "# idea 2: withou grouped by insruance status\n",
    "#         for visit/avoid, calculate the toothache rate\n",
    "\n",
    "visit_tche = df.groupby('OHM_33').get_group(1)['OHQ_21'].mean()\n",
    "avoid_tche = df.groupby('OHM_33').get_group(0)['OHQ_21'].mean()"
   ]
  },
  {
   "cell_type": "code",
   "execution_count": 34,
   "id": "d4853674",
   "metadata": {},
   "outputs": [
    {
     "data": {
      "text/plain": [
       "0.08908582089552239"
      ]
     },
     "execution_count": 34,
     "metadata": {},
     "output_type": "execute_result"
    }
   ],
   "source": [
    "visit_tche"
   ]
  },
  {
   "cell_type": "code",
   "execution_count": 37,
   "id": "ecf6da38",
   "metadata": {},
   "outputs": [
    {
     "data": {
      "text/plain": [
       "0.11904761904761904"
      ]
     },
     "execution_count": 37,
     "metadata": {},
     "output_type": "execute_result"
    }
   ],
   "source": [
    "avoid_tche"
   ]
  },
  {
   "cell_type": "code",
   "execution_count": 38,
   "id": "3e6ad5a5",
   "metadata": {},
   "outputs": [
    {
     "data": {
      "text/plain": [
       "33.632510595861376"
      ]
     },
     "execution_count": 38,
     "metadata": {},
     "output_type": "execute_result"
    }
   ],
   "source": [
    "# calculate the increase in proportion\n",
    "(avoid_tche - visit_tche)/visit_tche *100"
   ]
  },
  {
   "cell_type": "code",
   "execution_count": null,
   "id": "254fb882",
   "metadata": {},
   "outputs": [],
   "source": []
  },
  {
   "cell_type": "code",
   "execution_count": 32,
   "id": "8b815531",
   "metadata": {},
   "outputs": [],
   "source": [
    "# idea 3: without group by visit/avoid\n",
    "        # for insurance status, calculate the toothache rate\n",
    "    \n",
    "ins_tche = some_insurance['OHQ_21'].mean()\n",
    "noins_tche = no_insurance['OHQ_21'].mean()"
   ]
  },
  {
   "cell_type": "code",
   "execution_count": null,
   "id": "6f731330",
   "metadata": {},
   "outputs": [],
   "source": []
  },
  {
   "cell_type": "markdown",
   "id": "36e0c206",
   "metadata": {},
   "source": [
    "# Figure 3 and Table 3"
   ]
  },
  {
   "cell_type": "code",
   "execution_count": 147,
   "id": "764041b1",
   "metadata": {},
   "outputs": [],
   "source": [
    "# has inruance and visit/avoid\n",
    "insvisit = some_insurance.groupby(['OHM_33']).get_group(1)\n",
    "insavoid = some_insurance.groupby(['OHM_33']).get_group(0)\n",
    "\n",
    "# no insurance and visi/avoid toothache rate\n",
    "noinsvisit = no_insurance.groupby(['OHM_33']).get_group(1)\n",
    "noinsavoid = no_insurance.groupby(['OHM_33']).get_group(0)"
   ]
  },
  {
   "cell_type": "code",
   "execution_count": 159,
   "id": "415e1212",
   "metadata": {},
   "outputs": [],
   "source": [
    "iv_urg = (insvisit['num_urgent'] != 0).mean()\n",
    "niv_urg = (noinsvisit['num_urgent'] != 0).mean()"
   ]
  },
  {
   "cell_type": "code",
   "execution_count": 160,
   "id": "4684f597",
   "metadata": {},
   "outputs": [],
   "source": [
    "ia_urg = (insavoid['num_urgent'] != 0).mean()\n",
    "nia_urg = (noinsavoid['num_urgent'] != 0).mean()"
   ]
  },
  {
   "cell_type": "code",
   "execution_count": 150,
   "id": "877b9eea",
   "metadata": {},
   "outputs": [],
   "source": [
    "# since the outcome of toothache does not really depend on the insurance status\n",
    "# considering using urgent surgeries instead\n",
    "\n",
    "# has inruance and visit/avoid toothache rate\n",
    "insvisit_urg = some_insurance.groupby(['OHM_33']).get_group(1)['num_urgent'].mean()\n",
    "insavoid_urg = some_insurance.groupby(['OHM_33']).get_group(0)['num_urgent'].mean()\n",
    "\n",
    "# no insurance and visi/avoid toothache rate\n",
    "noinsvisit_urg = no_insurance.groupby(['OHM_33']).get_group(1)['num_urgent'].mean()\n",
    "noinsavoid_urg = no_insurance.groupby(['OHM_33']).get_group(0)['num_urgent'].mean()\n"
   ]
  },
  {
   "cell_type": "code",
   "execution_count": 46,
   "id": "f9ae4d29",
   "metadata": {},
   "outputs": [
    {
     "data": {
      "text/plain": [
       "0.03546099290780142"
      ]
     },
     "execution_count": 46,
     "metadata": {},
     "output_type": "execute_result"
    }
   ],
   "source": [
    "insavoid_urg"
   ]
  },
  {
   "cell_type": "code",
   "execution_count": 132,
   "id": "f2c58441",
   "metadata": {},
   "outputs": [
    {
     "data": {
      "text/plain": [
       "0.012168486739469579"
      ]
     },
     "execution_count": 132,
     "metadata": {},
     "output_type": "execute_result"
    }
   ],
   "source": [
    "insvisit_urg"
   ]
  },
  {
   "cell_type": "code",
   "execution_count": 135,
   "id": "6b9960ee",
   "metadata": {},
   "outputs": [
    {
     "data": {
      "text/plain": [
       "0.014773776546629732"
      ]
     },
     "execution_count": 135,
     "metadata": {},
     "output_type": "execute_result"
    }
   ],
   "source": [
    "noinsvisit_urg"
   ]
  },
  {
   "cell_type": "code",
   "execution_count": 48,
   "id": "f426f67d",
   "metadata": {},
   "outputs": [
    {
     "data": {
      "text/plain": [
       "0.033045977011494254"
      ]
     },
     "execution_count": 48,
     "metadata": {},
     "output_type": "execute_result"
    }
   ],
   "source": [
    "noinsavoid_urg"
   ]
  },
  {
   "cell_type": "code",
   "execution_count": 161,
   "id": "f3cfd733",
   "metadata": {},
   "outputs": [
    {
     "data": {
      "text/html": [
       "<div>\n",
       "<style scoped>\n",
       "    .dataframe tbody tr th:only-of-type {\n",
       "        vertical-align: middle;\n",
       "    }\n",
       "\n",
       "    .dataframe tbody tr th {\n",
       "        vertical-align: top;\n",
       "    }\n",
       "\n",
       "    .dataframe thead th {\n",
       "        text-align: right;\n",
       "    }\n",
       "</style>\n",
       "<table border=\"1\" class=\"dataframe\">\n",
       "  <thead>\n",
       "    <tr style=\"text-align: right;\">\n",
       "      <th></th>\n",
       "      <th>Visit Regularly</th>\n",
       "      <th>Avoid to Visit</th>\n",
       "    </tr>\n",
       "  </thead>\n",
       "  <tbody>\n",
       "    <tr>\n",
       "      <th>Some Insuranece</th>\n",
       "      <td>0.8%</td>\n",
       "      <td>2.5%</td>\n",
       "    </tr>\n",
       "    <tr>\n",
       "      <th>No Insurance</th>\n",
       "      <td>1.3%</td>\n",
       "      <td>2.3%</td>\n",
       "    </tr>\n",
       "  </tbody>\n",
       "</table>\n",
       "</div>"
      ],
      "text/plain": [
       "                Visit Regularly Avoid to Visit\n",
       "Some Insuranece            0.8%           2.5%\n",
       "No Insurance               1.3%           2.3%"
      ]
     },
     "execution_count": 161,
     "metadata": {},
     "output_type": "execute_result"
    }
   ],
   "source": [
    "tb3 = {\n",
    "    'Some Insuranece': [f\"{round(iv_urg*100, 1)}%\", f\"{round(ia_urg*100, 1)}%\"],\n",
    "    'No Insurance': [f\"{round(niv_urg*100, 1)}%\", f\"{round(nia_urg*100, 1)}%\"]\n",
    "}\n",
    "\n",
    "table3 = pd.DataFrame(tb3)\n",
    "new_index = ['Visit Regularly', 'Avoid to Visit']\n",
    "table3.index = new_index\n",
    "\n",
    "table3.T\n",
    "\n",
    "# interpretation：\n",
    "# for those visit regularly, the it is interesting to observe that amongst those who visit dental regularly"
   ]
  },
  {
   "cell_type": "code",
   "execution_count": 225,
   "id": "d6aeb9db",
   "metadata": {},
   "outputs": [
    {
     "data": {
      "image/png": "[encoded data removed]",
      "text/plain": [
       "<Figure size 1000x400 with 1 Axes>"
      ]
     },
     "metadata": {},
     "output_type": "display_data"
    }
   ],
   "source": [
    "v_urgrt = (iv_urg - niv_urg)/niv_urg *100\n",
    "a_urgrt = (ia_urg - nia_urg)/nia_urg *100\n",
    "\n",
    "values = [v_urgrt, a_urgrt]\n",
    "categories = ['Visit Regularly', 'Avoid to Visit']\n",
    "\n",
    "# Set the colors for positive and negative values\n",
    "colors = ['mediumseagreen' if x > 0 else 'lightcoral' for x in values]\n",
    "\n",
    "plt.figure(figsize=(10, 4))  # Adjusted for a wider (landscape) graph\n",
    "bars = plt.barh(categories, values, color=colors, height=0.8)\n",
    "plt.ylim(-0.75, len(categories)-0.25)\n",
    "\n",
    "plt.title('Figure 3. Relative Change in Urgent Treatment after Implementing Insurance by Visit Condition', fontsize=15)\n",
    "plt.xlabel('Percentage', fontsize=13)\n",
    "plt.ylabel('Visit Condition', fontsize=13)\n",
    "\n",
    "# Center the x-axis at zero to clearly show positive and negative values\n",
    "plt.axvline(0, color='gray', linewidth=0.8)\n",
    "\n",
    "# Offset for the text inside the bar to prevent overlap\n",
    "text_offset = 3\n",
    "\n",
    "# Annotate the bars with the percentage value\n",
    "for bar in bars:\n",
    "    xval = bar.get_width()\n",
    "    if xval >= 0:\n",
    "        # For positive values, place the text inside the bar near the right edge\n",
    "        plt.text(xval - text_offset, bar.get_y() + bar.get_height()/2, f\"{xval:.1f}%\", ha='right', va='center')\n",
    "    else:\n",
    "        # For negative values, place the text inside the bar near the left edge\n",
    "        plt.text(xval + text_offset, bar.get_y() + bar.get_height()/2, f\"{xval:.1f}%\", ha='left', va='center')\n",
    "\n",
    "plt.tight_layout()  # Adjust layout to fit everything neatly\n",
    "plt.show()"
   ]
  },
  {
   "cell_type": "code",
   "execution_count": 53,
   "id": "50c84bc9",
   "metadata": {},
   "outputs": [],
   "source": [
    "# idea 2: without group by visit and avoid visit\n",
    "    # for insurance status, calculate the urgent rate\n",
    "    \n",
    "ins_urg = some_insurance['num_urgent'].mean()\n",
    "noins_urg = no_insurance['num_urgent'].mean()"
   ]
  },
  {
   "cell_type": "code",
   "execution_count": 55,
   "id": "739337bf",
   "metadata": {},
   "outputs": [
    {
     "data": {
      "text/plain": [
       "0.015654019633855133"
      ]
     },
     "execution_count": 55,
     "metadata": {},
     "output_type": "execute_result"
    }
   ],
   "source": [
    "ins_urg"
   ]
  },
  {
   "cell_type": "code",
   "execution_count": 56,
   "id": "441f11a6",
   "metadata": {},
   "outputs": [
    {
     "data": {
      "text/plain": [
       "0.021922428330522766"
      ]
     },
     "execution_count": 56,
     "metadata": {},
     "output_type": "execute_result"
    }
   ],
   "source": [
    "noins_urg"
   ]
  },
  {
   "cell_type": "code",
   "execution_count": 57,
   "id": "8518a976",
   "metadata": {},
   "outputs": [],
   "source": [
    "# idea 3, without group by insurance status\n",
    "    # for visit/avoid, calculate the urgent rate\n",
    "    \n",
    "visit_urg = df.groupby('OHM_33').get_group(1)['num_urgent'].mean()\n",
    "avoid_urg = df.groupby('OHM_33').get_group(0)['num_urgent'].mean()"
   ]
  },
  {
   "cell_type": "code",
   "execution_count": 59,
   "id": "47f7321c",
   "metadata": {},
   "outputs": [
    {
     "data": {
      "text/plain": [
       "0.012826492537313433"
      ]
     },
     "execution_count": 59,
     "metadata": {},
     "output_type": "execute_result"
    }
   ],
   "source": [
    "visit_urg"
   ]
  },
  {
   "cell_type": "code",
   "execution_count": 58,
   "id": "79b5a630",
   "metadata": {},
   "outputs": [
    {
     "data": {
      "text/plain": [
       "0.034126984126984124"
      ]
     },
     "execution_count": 58,
     "metadata": {},
     "output_type": "execute_result"
    }
   ],
   "source": [
    "avoid_urg"
   ]
  },
  {
   "cell_type": "code",
   "execution_count": 80,
   "id": "cca05ebb",
   "metadata": {},
   "outputs": [],
   "source": [
    "insurg = (some_insurance['num_urgent'] != 0).mean()\n",
    "noinsurg = (no_insurance['num_urgent'] != 0).mean()"
   ]
  },
  {
   "cell_type": "code",
   "execution_count": 81,
   "id": "f741b916",
   "metadata": {},
   "outputs": [
    {
     "data": {
      "text/plain": [
       "0.010878217033695941"
      ]
     },
     "execution_count": 81,
     "metadata": {},
     "output_type": "execute_result"
    }
   ],
   "source": [
    "insurg"
   ]
  },
  {
   "cell_type": "code",
   "execution_count": 82,
   "id": "228a7c97",
   "metadata": {},
   "outputs": [
    {
     "data": {
      "text/plain": [
       "0.016863406408094434"
      ]
     },
     "execution_count": 82,
     "metadata": {},
     "output_type": "execute_result"
    }
   ],
   "source": [
    "noinsurg"
   ]
  },
  {
   "cell_type": "code",
   "execution_count": 83,
   "id": "430a7cbc",
   "metadata": {},
   "outputs": [],
   "source": [
    "vurg = (df.groupby(['OHM_33']).get_group(1)['num_urgent'] != 0).mean()\n",
    "aurg = (df.groupby(['OHM_33']).get_group(0)['num_urgent'] != 0).mean()"
   ]
  },
  {
   "cell_type": "code",
   "execution_count": 84,
   "id": "4b9d51e7",
   "metadata": {},
   "outputs": [
    {
     "data": {
      "text/plain": [
       "0.009561567164179104"
      ]
     },
     "execution_count": 84,
     "metadata": {},
     "output_type": "execute_result"
    }
   ],
   "source": [
    "vurg"
   ]
  },
  {
   "cell_type": "code",
   "execution_count": 85,
   "id": "c5afd81a",
   "metadata": {},
   "outputs": [
    {
     "data": {
      "text/plain": [
       "0.023809523809523808"
      ]
     },
     "execution_count": 85,
     "metadata": {},
     "output_type": "execute_result"
    }
   ],
   "source": [
    "aurg"
   ]
  },
  {
   "cell_type": "code",
   "execution_count": 94,
   "id": "4ade6bab",
   "metadata": {},
   "outputs": [
    {
     "data": {
      "text/plain": [
       "0    5477\n",
       "1      50\n",
       "2      16\n",
       "3       4\n",
       "4       1\n",
       "Name: num_urgent, dtype: int64"
      ]
     },
     "execution_count": 94,
     "metadata": {},
     "output_type": "execute_result"
    }
   ],
   "source": [
    "df['num_urgent'].value_counts()"
   ]
  },
  {
   "cell_type": "code",
   "execution_count": 129,
   "id": "6b39083e",
   "metadata": {},
   "outputs": [
    {
     "data": {
      "text/plain": [
       "1.0"
      ]
     },
     "execution_count": 129,
     "metadata": {},
     "output_type": "execute_result"
    }
   ],
   "source": [
    "df.groupby(['num_urgent']).get_group(4)['OHM_33'].mean()"
   ]
  },
  {
   "cell_type": "markdown",
   "id": "1f477770",
   "metadata": {},
   "source": [
    "# IV Experiment for toothache symptoms"
   ]
  },
  {
   "cell_type": "code",
   "execution_count": 60,
   "id": "c8700600",
   "metadata": {},
   "outputs": [
    {
     "data": {
      "text/html": [
       "<div>\n",
       "<style scoped>\n",
       "    .dataframe tbody tr th:only-of-type {\n",
       "        vertical-align: middle;\n",
       "    }\n",
       "\n",
       "    .dataframe tbody tr th {\n",
       "        vertical-align: top;\n",
       "    }\n",
       "\n",
       "    .dataframe thead th {\n",
       "        text-align: right;\n",
       "    }\n",
       "</style>\n",
       "<table border=\"1\" class=\"dataframe\">\n",
       "  <thead>\n",
       "    <tr style=\"text-align: right;\">\n",
       "      <th></th>\n",
       "      <th>DHH_SEX</th>\n",
       "      <th>AGEGROUP</th>\n",
       "      <th>WORK</th>\n",
       "      <th>INCDDIA4</th>\n",
       "      <th>RACE</th>\n",
       "      <th>SMKDGSTY</th>\n",
       "      <th>OHM_33</th>\n",
       "      <th>OHM_41</th>\n",
       "      <th>OHM_43</th>\n",
       "      <th>OHE_61</th>\n",
       "      <th>OHE_63</th>\n",
       "      <th>OHE_64</th>\n",
       "      <th>OHE_65</th>\n",
       "      <th>OHQ_21</th>\n",
       "    </tr>\n",
       "  </thead>\n",
       "  <tbody>\n",
       "    <tr>\n",
       "      <th>0</th>\n",
       "      <td>2.0</td>\n",
       "      <td>1.0</td>\n",
       "      <td>6.0</td>\n",
       "      <td>4.0</td>\n",
       "      <td>1.0</td>\n",
       "      <td>9.0</td>\n",
       "      <td>1.0</td>\n",
       "      <td>2.0</td>\n",
       "      <td>1.0</td>\n",
       "      <td>6.0</td>\n",
       "      <td>6.0</td>\n",
       "      <td>6.0</td>\n",
       "      <td>6.0</td>\n",
       "      <td>2.0</td>\n",
       "    </tr>\n",
       "    <tr>\n",
       "      <th>1</th>\n",
       "      <td>2.0</td>\n",
       "      <td>1.0</td>\n",
       "      <td>6.0</td>\n",
       "      <td>3.0</td>\n",
       "      <td>1.0</td>\n",
       "      <td>9.0</td>\n",
       "      <td>2.0</td>\n",
       "      <td>1.0</td>\n",
       "      <td>1.0</td>\n",
       "      <td>6.0</td>\n",
       "      <td>6.0</td>\n",
       "      <td>6.0</td>\n",
       "      <td>6.0</td>\n",
       "      <td>2.0</td>\n",
       "    </tr>\n",
       "    <tr>\n",
       "      <th>2</th>\n",
       "      <td>2.0</td>\n",
       "      <td>5.0</td>\n",
       "      <td>1.0</td>\n",
       "      <td>3.0</td>\n",
       "      <td>1.0</td>\n",
       "      <td>2.0</td>\n",
       "      <td>2.0</td>\n",
       "      <td>2.0</td>\n",
       "      <td>1.0</td>\n",
       "      <td>6.0</td>\n",
       "      <td>6.0</td>\n",
       "      <td>6.0</td>\n",
       "      <td>6.0</td>\n",
       "      <td>1.0</td>\n",
       "    </tr>\n",
       "    <tr>\n",
       "      <th>3</th>\n",
       "      <td>1.0</td>\n",
       "      <td>5.0</td>\n",
       "      <td>1.0</td>\n",
       "      <td>3.0</td>\n",
       "      <td>1.0</td>\n",
       "      <td>2.0</td>\n",
       "      <td>2.0</td>\n",
       "      <td>2.0</td>\n",
       "      <td>2.0</td>\n",
       "      <td>6.0</td>\n",
       "      <td>6.0</td>\n",
       "      <td>6.0</td>\n",
       "      <td>6.0</td>\n",
       "      <td>2.0</td>\n",
       "    </tr>\n",
       "    <tr>\n",
       "      <th>4</th>\n",
       "      <td>1.0</td>\n",
       "      <td>4.0</td>\n",
       "      <td>1.0</td>\n",
       "      <td>2.0</td>\n",
       "      <td>1.0</td>\n",
       "      <td>1.0</td>\n",
       "      <td>4.0</td>\n",
       "      <td>1.0</td>\n",
       "      <td>2.0</td>\n",
       "      <td>2.0</td>\n",
       "      <td>6.0</td>\n",
       "      <td>6.0</td>\n",
       "      <td>6.0</td>\n",
       "      <td>1.0</td>\n",
       "    </tr>\n",
       "    <tr>\n",
       "      <th>...</th>\n",
       "      <td>...</td>\n",
       "      <td>...</td>\n",
       "      <td>...</td>\n",
       "      <td>...</td>\n",
       "      <td>...</td>\n",
       "      <td>...</td>\n",
       "      <td>...</td>\n",
       "      <td>...</td>\n",
       "      <td>...</td>\n",
       "      <td>...</td>\n",
       "      <td>...</td>\n",
       "      <td>...</td>\n",
       "      <td>...</td>\n",
       "      <td>...</td>\n",
       "    </tr>\n",
       "    <tr>\n",
       "      <th>5599</th>\n",
       "      <td>1.0</td>\n",
       "      <td>7.0</td>\n",
       "      <td>2.0</td>\n",
       "      <td>3.0</td>\n",
       "      <td>1.0</td>\n",
       "      <td>1.0</td>\n",
       "      <td>4.0</td>\n",
       "      <td>2.0</td>\n",
       "      <td>2.0</td>\n",
       "      <td>6.0</td>\n",
       "      <td>6.0</td>\n",
       "      <td>6.0</td>\n",
       "      <td>6.0</td>\n",
       "      <td>2.0</td>\n",
       "    </tr>\n",
       "    <tr>\n",
       "      <th>5600</th>\n",
       "      <td>1.0</td>\n",
       "      <td>5.0</td>\n",
       "      <td>1.0</td>\n",
       "      <td>4.0</td>\n",
       "      <td>1.0</td>\n",
       "      <td>1.0</td>\n",
       "      <td>3.0</td>\n",
       "      <td>2.0</td>\n",
       "      <td>1.0</td>\n",
       "      <td>2.0</td>\n",
       "      <td>6.0</td>\n",
       "      <td>6.0</td>\n",
       "      <td>6.0</td>\n",
       "      <td>2.0</td>\n",
       "    </tr>\n",
       "    <tr>\n",
       "      <th>5601</th>\n",
       "      <td>2.0</td>\n",
       "      <td>5.0</td>\n",
       "      <td>2.0</td>\n",
       "      <td>2.0</td>\n",
       "      <td>1.0</td>\n",
       "      <td>1.0</td>\n",
       "      <td>2.0</td>\n",
       "      <td>2.0</td>\n",
       "      <td>1.0</td>\n",
       "      <td>2.0</td>\n",
       "      <td>6.0</td>\n",
       "      <td>2.0</td>\n",
       "      <td>6.0</td>\n",
       "      <td>2.0</td>\n",
       "    </tr>\n",
       "    <tr>\n",
       "      <th>5602</th>\n",
       "      <td>1.0</td>\n",
       "      <td>7.0</td>\n",
       "      <td>1.0</td>\n",
       "      <td>3.0</td>\n",
       "      <td>1.0</td>\n",
       "      <td>1.0</td>\n",
       "      <td>4.0</td>\n",
       "      <td>1.0</td>\n",
       "      <td>2.0</td>\n",
       "      <td>6.0</td>\n",
       "      <td>6.0</td>\n",
       "      <td>6.0</td>\n",
       "      <td>6.0</td>\n",
       "      <td>2.0</td>\n",
       "    </tr>\n",
       "    <tr>\n",
       "      <th>5603</th>\n",
       "      <td>2.0</td>\n",
       "      <td>5.0</td>\n",
       "      <td>1.0</td>\n",
       "      <td>4.0</td>\n",
       "      <td>1.0</td>\n",
       "      <td>3.0</td>\n",
       "      <td>1.0</td>\n",
       "      <td>2.0</td>\n",
       "      <td>1.0</td>\n",
       "      <td>2.0</td>\n",
       "      <td>6.0</td>\n",
       "      <td>6.0</td>\n",
       "      <td>6.0</td>\n",
       "      <td>2.0</td>\n",
       "    </tr>\n",
       "  </tbody>\n",
       "</table>\n",
       "<p>5604 rows × 14 columns</p>\n",
       "</div>"
      ],
      "text/plain": [
       "      DHH_SEX  AGEGROUP  WORK  INCDDIA4  RACE  SMKDGSTY  OHM_33  OHM_41  \\\n",
       "0         2.0       1.0   6.0       4.0   1.0       9.0     1.0     2.0   \n",
       "1         2.0       1.0   6.0       3.0   1.0       9.0     2.0     1.0   \n",
       "2         2.0       5.0   1.0       3.0   1.0       2.0     2.0     2.0   \n",
       "3         1.0       5.0   1.0       3.0   1.0       2.0     2.0     2.0   \n",
       "4         1.0       4.0   1.0       2.0   1.0       1.0     4.0     1.0   \n",
       "...       ...       ...   ...       ...   ...       ...     ...     ...   \n",
       "5599      1.0       7.0   2.0       3.0   1.0       1.0     4.0     2.0   \n",
       "5600      1.0       5.0   1.0       4.0   1.0       1.0     3.0     2.0   \n",
       "5601      2.0       5.0   2.0       2.0   1.0       1.0     2.0     2.0   \n",
       "5602      1.0       7.0   1.0       3.0   1.0       1.0     4.0     1.0   \n",
       "5603      2.0       5.0   1.0       4.0   1.0       3.0     1.0     2.0   \n",
       "\n",
       "      OHM_43  OHE_61  OHE_63  OHE_64  OHE_65  OHQ_21  \n",
       "0        1.0     6.0     6.0     6.0     6.0     2.0  \n",
       "1        1.0     6.0     6.0     6.0     6.0     2.0  \n",
       "2        1.0     6.0     6.0     6.0     6.0     1.0  \n",
       "3        2.0     6.0     6.0     6.0     6.0     2.0  \n",
       "4        2.0     2.0     6.0     6.0     6.0     1.0  \n",
       "...      ...     ...     ...     ...     ...     ...  \n",
       "5599     2.0     6.0     6.0     6.0     6.0     2.0  \n",
       "5600     1.0     2.0     6.0     6.0     6.0     2.0  \n",
       "5601     1.0     2.0     6.0     2.0     6.0     2.0  \n",
       "5602     2.0     6.0     6.0     6.0     6.0     2.0  \n",
       "5603     1.0     2.0     6.0     6.0     6.0     2.0  \n",
       "\n",
       "[5604 rows x 14 columns]"
      ]
     },
     "execution_count": 60,
     "metadata": {},
     "output_type": "execute_result"
    }
   ],
   "source": [
    "ivdf = rawdt[['DHH_SEX', 'AGEGROUP', 'WORK', 'INCDDIA4', 'RACE', 'SMKDGSTY', 'OHM_33',\n",
    "            'OHM_41', 'OHM_43', 'OHE_61', 'OHE_63', 'OHE_64', 'OHE_65', 'OHQ_21']].copy()\n",
    "ivdf"
   ]
  },
  {
   "cell_type": "code",
   "execution_count": 61,
   "id": "8a017f07",
   "metadata": {},
   "outputs": [
    {
     "name": "stderr",
     "output_type": "stream",
     "text": [
      "C:\\Users\\amyc0\\AppData\\Local\\Temp\\ipykernel_17968\\481897765.py:5: SettingWithCopyWarning: \n",
      "A value is trying to be set on a copy of a slice from a DataFrame.\n",
      "Try using .loc[row_indexer,col_indexer] = value instead\n",
      "\n",
      "See the caveats in the documentation: https://pandas.pydata.org/pandas-docs/stable/user_guide/indexing.html#returning-a-view-versus-a-copy\n",
      "  ivdf['OHM_41'] = ivdf['OHM_41'].replace(2, 0)\n"
     ]
    }
   ],
   "source": [
    "# drop the unanswerd questions\n",
    "# transform yes to 1, no to 0\n",
    "\n",
    "ivdf = ivdf.loc[ivdf['OHM_41']<=2] # avoidanc of dental visit\n",
    "ivdf['OHM_41'] = ivdf['OHM_41'].replace(2, 0)\n",
    "\n",
    "ivdf = ivdf.loc[ivdf['OHM_33']<=5] # frequncy of dental visit\n",
    "ivdf['OHM_33'] = ivdf['OHM_33'].replace({2: 1, 3: 0, 4: 0, 5:0})\n",
    "\n",
    "ivdf = ivdf.loc[ivdf['OHM_43']<=2] # having some dental insurance\n",
    "ivdf['OHM_43'] = ivdf['OHM_43'].replace(2, 0)\n",
    "\n",
    "ivdf = ivdf.loc[ivdf['OHQ_21']<=2] # toothache or not\n",
    "ivdf['OHQ_21'] = ivdf['OHQ_21'].replace(2, 0)"
   ]
  },
  {
   "cell_type": "code",
   "execution_count": 27,
   "id": "ccd41663",
   "metadata": {},
   "outputs": [],
   "source": [
    "# create a new column of number counting number of urgent treatment needed from 0-4\n",
    "# urgent - OHE_61, 63, 64, 65,\n",
    "ivdf = ivdf.loc[ivdf['OHE_61']<=6]\n",
    "ivdf['OHE_61'] = ivdf['OHE_61'].replace({2: 0, 6: 0})\n",
    "ivdf = ivdf.loc[ivdf['OHE_63']<=6]\n",
    "ivdf['OHE_63'] = ivdf['OHE_63'].replace({2: 0, 6: 0})\n",
    "ivdf = ivdf.loc[ivdf['OHE_64']<=6]\n",
    "ivdf['OHE_64'] = ivdf['OHE_64'].replace({2: 0, 6: 0})\n",
    "ivdf = ivdf.loc[ivdf['OHE_65']<=6]\n",
    "ivdf['OHE_65'] = ivdf['OHE_65'].replace({2: 0, 6: 0})\n",
    "\n",
    "ivdf['num_urgent'] = ivdf[['OHE_61', 'OHE_63', 'OHE_64', 'OHE_65']].apply(lambda row: (row == 1).sum(), axis=1)"
   ]
  },
  {
   "cell_type": "code",
   "execution_count": 63,
   "id": "71fe0665",
   "metadata": {},
   "outputs": [],
   "source": [
    "# rename the variables\n",
    "ivdf.rename(columns={'OHQ_21': 'Toothache', 'OHM_43': 'Insured', 'OHM_33': 'visit',\n",
    "                     'OHM_41': 'avoid', 'AGEGROUP': 'Age Group'}, inplace=True)"
   ]
  },
  {
   "cell_type": "code",
   "execution_count": 64,
   "id": "dc3e13d9",
   "metadata": {},
   "outputs": [],
   "source": [
    "# create a new column of dental visit condition:\n",
    "# 0 == avoid to visit\n",
    "# 1 == regular annual visit\n",
    "# 2 == irrgular visit due to other reasons\n",
    "\n",
    "# condition for the visit (ohm_33) column and the avoidance (ohm_41) column\n",
    "# setup: column1=visit, column2=avoid\n",
    "ivdf['Dental Visit Behaviour'] = 0\n",
    "ivdf.loc[(ivdf['visit'] == 1) & (ivdf['avoid'] == 0), 'Dental Visit Behaviour'] = 1\n",
    "ivdf.loc[(ivdf['visit'] == 0) & (ivdf['avoid'] == 0), 'Dental Visit Behaviour'] = 2"
   ]
  },
  {
   "cell_type": "code",
   "execution_count": 65,
   "id": "e3f3f6c9",
   "metadata": {},
   "outputs": [
    {
     "data": {
      "text/plain": [
       "1    3888\n",
       "0     876\n",
       "Name: Dental Visit Behaviour, dtype: int64"
      ]
     },
     "execution_count": 65,
     "metadata": {},
     "output_type": "execute_result"
    }
   ],
   "source": [
    "ivdf = ivdf[ivdf['Dental Visit Behaviour'] != 2]\n",
    "ivdf['Dental Visit Behaviour'].value_counts()"
   ]
  },
  {
   "cell_type": "code",
   "execution_count": 66,
   "id": "4c3a5412",
   "metadata": {
    "scrolled": false
   },
   "outputs": [
    {
     "name": "stdout",
     "output_type": "stream",
     "text": [
      "First Stage Regression:\n",
      "                              OLS Regression Results                              \n",
      "==================================================================================\n",
      "Dep. Variable:     Dental Visit Behaviour   R-squared:                       0.147\n",
      "Model:                                OLS   Adj. R-squared:                  0.146\n",
      "Method:                     Least Squares   F-statistic:                     409.7\n",
      "Date:                    Sat, 09 Dec 2023   Prob (F-statistic):          6.42e-165\n",
      "Time:                            21:32:54   Log-Likelihood:                -1863.7\n",
      "No. Observations:                    4764   AIC:                             3733.\n",
      "Df Residuals:                        4761   BIC:                             3753.\n",
      "Df Model:                               2                                         \n",
      "Covariance Type:                nonrobust                                         \n",
      "==============================================================================\n",
      "                 coef    std err          t      P>|t|      [0.025      0.975]\n",
      "------------------------------------------------------------------------------\n",
      "const          0.6208      0.015     42.630      0.000       0.592       0.649\n",
      "Insured        0.3162      0.012     27.298      0.000       0.293       0.339\n",
      "Age Group     -0.0070      0.002     -2.839      0.005      -0.012      -0.002\n",
      "==============================================================================\n",
      "Omnibus:                      873.307   Durbin-Watson:                   2.011\n",
      "Prob(Omnibus):                  0.000   Jarque-Bera (JB):             1423.715\n",
      "Skew:                          -1.281   Prob(JB):                    6.99e-310\n",
      "Kurtosis:                       3.781   Cond. No.                         15.0\n",
      "==============================================================================\n",
      "\n",
      "Notes:\n",
      "[1] Standard Errors assume that the covariance matrix of the errors is correctly specified.\n"
     ]
    },
    {
     "data": {
      "image/png": "[encoded data removed]",
      "text/plain": [
       "<Figure size 640x480 with 1 Axes>"
      ]
     },
     "metadata": {},
     "output_type": "display_data"
    }
   ],
   "source": [
    "# First-stage regression\n",
    "first_stage_model = sm.OLS(ivdf['Dental Visit Behaviour'], sm.add_constant(ivdf[['Insured', 'Age Group']])).fit()\n",
    "print(\"First Stage Regression:\")\n",
    "print(first_stage_model.summary())\n",
    "\n",
    "# Extract the predicted values from the first stage\n",
    "ivdf['Dental Visit Condition'] = first_stage_model.predict()\n",
    "\n",
    "# Load the image to extract the regression table text\n",
    "img_path = 'results/image.png'\n",
    "\n",
    "# Save the summary as text\n",
    "plt.text(0.01, 0.05, str(first_stage_model.summary()), {'fontsize': 10}, fontproperties='monospace') \n",
    "# Setting the layout of the figure\n",
    "plt.axis('off')\n",
    "plt.tight_layout()\n",
    "\n",
    "# Save the figure\n",
    "plt.savefig('first_stage_model.png', bbox_inches='tight', pad_inches=0.5)\n",
    "\n"
   ]
  },
  {
   "cell_type": "code",
   "execution_count": 69,
   "id": "b0d9283c",
   "metadata": {},
   "outputs": [
    {
     "name": "stdout",
     "output_type": "stream",
     "text": [
      "\n",
      "Reduced Form Regression:\n",
      "                            OLS Regression Results                            \n",
      "==============================================================================\n",
      "Dep. Variable:              Toothache   R-squared:                       0.004\n",
      "Model:                            OLS   Adj. R-squared:                  0.004\n",
      "Method:                 Least Squares   F-statistic:                     10.59\n",
      "Date:                Sat, 09 Dec 2023   Prob (F-statistic):           2.59e-05\n",
      "Time:                        21:33:36   Log-Likelihood:                -993.87\n",
      "No. Observations:                4764   AIC:                             1994.\n",
      "Df Residuals:                    4761   BIC:                             2013.\n",
      "Df Model:                           2                                         \n",
      "Covariance Type:            nonrobust                                         \n",
      "==========================================================================================\n",
      "                             coef    std err          t      P>|t|      [0.025      0.975]\n",
      "------------------------------------------------------------------------------------------\n",
      "const                      0.1165      0.010     11.761      0.000       0.097       0.136\n",
      "Insured                   -0.0521      0.010     -5.124      0.000      -0.072      -0.032\n",
      "Dental Visit Condition     0.0559      0.004     14.139      0.000       0.048       0.064\n",
      "Age Group                 -0.0069      0.002     -3.421      0.001      -0.011      -0.003\n",
      "==============================================================================\n",
      "Omnibus:                     2461.107   Durbin-Watson:                   2.006\n",
      "Prob(Omnibus):                  0.000   Jarque-Bera (JB):            10915.683\n",
      "Skew:                           2.666   Prob(JB):                         0.00\n",
      "Kurtosis:                       8.155   Cond. No.                     1.86e+16\n",
      "==============================================================================\n",
      "\n",
      "Notes:\n",
      "[1] Standard Errors assume that the covariance matrix of the errors is correctly specified.\n",
      "[2] The smallest eigenvalue is 2.86e-28. This might indicate that there are\n",
      "strong multicollinearity problems or that the design matrix is singular.\n"
     ]
    },
    {
     "data": {
      "image/png": "[encoded data removed]",
      "text/plain": [
       "<Figure size 640x480 with 1 Axes>"
      ]
     },
     "metadata": {},
     "output_type": "display_data"
    }
   ],
   "source": [
    "# Reduced Form Regression\n",
    "rf_ache_model = sm.OLS(ivdf['Toothache'], sm.add_constant(ivdf[['Insured', 'Dental Visit Condition', 'Age Group']])).fit()\n",
    "print(\"\\nReduced Form Regression:\")\n",
    "print(rf_ache_model.summary())\n",
    "\n",
    "# Load the image to extract the regression table text\n",
    "img_path = 'results/image.png'\n",
    "\n",
    "# Save the summary as text\n",
    "plt.text(0.01, 0.05, str(rf_ache_model.summary()), {'fontsize': 10}, fontproperties='monospace')  \n",
    "# Setting the layout of the figure\n",
    "plt.axis('off')\n",
    "plt.tight_layout()\n",
    "\n",
    "# Save the figure\n",
    "plt.savefig('reduced_form_model.png', bbox_inches='tight', pad_inches=0.5)\n",
    "\n"
   ]
  },
  {
   "cell_type": "code",
   "execution_count": 34,
   "id": "d7ac888e",
   "metadata": {},
   "outputs": [
    {
     "data": {
      "text/plain": [
       "-0.161676332517169"
      ]
     },
     "execution_count": 34,
     "metadata": {},
     "output_type": "execute_result"
    }
   ],
   "source": [
    "# Coefficient of insurance status from the reduced form regression\n",
    "coeff_insurance_tache_rf = rf_ache_model.params['Insured']\n",
    "\n",
    "# Coefficient of insurance status from the first stage regression\n",
    "coeff_insurance_fs = first_stage_model.params['Insured']\n",
    "\n",
    "# IV estimate\n",
    "iv_estimate_tache = coeff_insurance_tache_rf / coeff_insurance_fs\n",
    "iv_estimate_tache"
   ]
  },
  {
   "cell_type": "code",
   "execution_count": 80,
   "id": "4ecd7b5a",
   "metadata": {},
   "outputs": [
    {
     "data": {
      "image/png": "[encoded data removed]",
      "text/plain": [
       "<Figure size 640x480 with 1 Axes>"
      ]
     },
     "metadata": {},
     "output_type": "display_data"
    }
   ],
   "source": [
    "# bar plot of First-stage regression\n",
    "\n",
    "const1 = first_stage_model.params['const']\n",
    "\n",
    "categories = ['Uninsured', 'Insured']\n",
    "values = [round(const1*100), round((const1 + coeff_insurance_fs)*100)]\n",
    "\n",
    "colors = ['mediumseagreen', 'lightcoral']\n",
    "\n",
    "plt.bar(categories, values, color=colors)\n",
    "\n",
    "offset = 0.3\n",
    "for i, v in enumerate(values):\n",
    "    plt.text(i, v - offset, f'{v}%', ha='center', va='top', fontsize=10)\n",
    "\n",
    "plt.xlabel('Insurance status')\n",
    "plt.ylabel('Percentage')\n",
    "plt.title('Figure 1.1 Dental Visit Behaviour by Insurance status')\n",
    "\n",
    "plt.savefig('figure_1.1.png')\n",
    "plt.show()"
   ]
  },
  {
   "cell_type": "code",
   "execution_count": 79,
   "id": "00480bed",
   "metadata": {},
   "outputs": [
    {
     "data": {
      "image/png": "[encoded data removed]",
      "text/plain": [
       "<Figure size 640x480 with 1 Axes>"
      ]
     },
     "metadata": {},
     "output_type": "display_data"
    }
   ],
   "source": [
    "# bar plot of the reduced form regression\n",
    "\n",
    "const2 = rf_ache_model.params['const']\n",
    "\n",
    "categories = ['Uninsured', 'Insured']\n",
    "values = [round(const2*100), round((const2 + coeff_insurance_tache_rf)*100)]\n",
    "\n",
    "colors = ['mediumseagreen', 'lightcoral']\n",
    "\n",
    "plt.bar(categories, values, color=colors)\n",
    "\n",
    "offset = 0.3\n",
    "for i, v in enumerate(values):\n",
    "    plt.text(i, v - offset, f'{v}%', ha='center', va='top', fontsize=10)\n",
    "\n",
    "plt.xlabel('Insurance status')\n",
    "plt.ylabel('Percentage')\n",
    "plt.title('Figure 2.1 Toothache Condition by Insurance status')\n",
    "\n",
    "plt.savefig('figure_2.1.png')\n",
    "plt.show()"
   ]
  },
  {
   "cell_type": "code",
   "execution_count": 141,
   "id": "f8bb76b1",
   "metadata": {},
   "outputs": [
    {
     "data": {
      "image/png": "[encoded data removed]",
      "text/plain": [
       "<Figure size 640x480 with 1 Axes>"
      ]
     },
     "metadata": {},
     "output_type": "display_data"
    }
   ],
   "source": [
    "proportions = ivdf.groupby('insured')['toothache'].mean()\n",
    "\n",
    "# Create a bar plot or dot plot\n",
    "plt.bar(proportions.index, proportions.values)\n",
    "plt.xlabel('Insurance Status')\n",
    "plt.ylabel('Proportion with Toothache')\n",
    "plt.xticks(proportions.index, ['No Insurance', 'Insurance'])\n",
    "plt.title('Impact of Insurance on Toothache Status')\n",
    "plt.show()"
   ]
  },
  {
   "cell_type": "markdown",
   "id": "340b8002",
   "metadata": {},
   "source": [
    "# IV experiment on Urgent dental treatment"
   ]
  },
  {
   "cell_type": "code",
   "execution_count": 132,
   "id": "e9454bc7",
   "metadata": {},
   "outputs": [],
   "source": [
    "# run the iv experiment on people with any \n",
    "ivdf['urgent'] = ivdf['num_urgent'].apply(lambda x: 1 if x != 0 else 0)"
   ]
  },
  {
   "cell_type": "code",
   "execution_count": 139,
   "id": "3952d4e3",
   "metadata": {},
   "outputs": [
    {
     "name": "stdout",
     "output_type": "stream",
     "text": [
      "\n",
      "Reduced Form Regression:\n",
      "                            OLS Regression Results                            \n",
      "==============================================================================\n",
      "Dep. Variable:                 urgent   R-squared:                       0.001\n",
      "Model:                            OLS   Adj. R-squared:                  0.001\n",
      "Method:                 Least Squares   F-statistic:                     2.546\n",
      "Date:                Thu, 07 Dec 2023   Prob (F-statistic):             0.0785\n",
      "Time:                        18:21:56   Log-Likelihood:                 3969.0\n",
      "No. Observations:                4752   AIC:                            -7932.\n",
      "Df Residuals:                    4749   BIC:                            -7913.\n",
      "Df Model:                           2                                         \n",
      "Covariance Type:            nonrobust                                         \n",
      "========================================================================================\n",
      "                           coef    std err          t      P>|t|      [0.025      0.975]\n",
      "----------------------------------------------------------------------------------------\n",
      "const                    0.0154      0.003      4.426      0.000       0.009       0.022\n",
      "insured                 -0.0092      0.004     -2.573      0.010      -0.016      -0.002\n",
      "PredictedDentalVisit     0.0067      0.001      4.794      0.000       0.004       0.009\n",
      "AGEGROUP                -0.0009      0.001     -1.198      0.231      -0.002       0.001\n",
      "==============================================================================\n",
      "Omnibus:                     7010.059   Durbin-Watson:                   2.023\n",
      "Prob(Omnibus):                  0.000   Jarque-Bera (JB):          1481898.361\n",
      "Skew:                           9.295   Prob(JB):                         0.00\n",
      "Kurtosis:                      87.491   Cond. No.                     2.24e+16\n",
      "==============================================================================\n",
      "\n",
      "Notes:\n",
      "[1] Standard Errors assume that the covariance matrix of the errors is correctly specified.\n",
      "[2] The smallest eigenvalue is 1.97e-28. This might indicate that there are\n",
      "strong multicollinearity problems or that the design matrix is singular.\n"
     ]
    }
   ],
   "source": [
    "# Reduced Form Regression\n",
    "rf_model_urg = sm.OLS(ivdf['urgent'], sm.add_constant(ivdf[['insured', 'PredictedDentalVisit', 'AGEGROUP']])).fit()\n",
    "print(\"\\nReduced Form Regression:\")\n",
    "print(rf_model_urg.summary())"
   ]
  },
  {
   "cell_type": "code",
   "execution_count": 140,
   "id": "fca37940",
   "metadata": {},
   "outputs": [
    {
     "data": {
      "text/plain": [
       "-0.029350577382257066"
      ]
     },
     "execution_count": 140,
     "metadata": {},
     "output_type": "execute_result"
    }
   ],
   "source": [
    "# Coefficient of insurance status from the reduced form regression\n",
    "coeff_insurance_urg2_rf = rf_model_urg.params['insured']\n",
    "\n",
    "# Coefficient of insurance status from the first stage regression\n",
    "coeff_insurance_fs = first_stage_model.params['insured']\n",
    "\n",
    "# IV estimate\n",
    "iv_estimate_urg = coeff_insurance_urg2_rf / coeff_insurance_fs\n",
    "iv_estimate_urg"
   ]
  },
  {
   "cell_type": "code",
   "execution_count": null,
   "id": "3b487b92",
   "metadata": {},
   "outputs": [],
   "source": []
  }
 ],
 "metadata": {
  "kernelspec": {
   "display_name": "Python 3 (ipykernel)",
   "language": "python",
   "name": "python3"
  },
  "language_info": {
   "codemirror_mode": {
    "name": "ipython",
    "version": 3
   },
   "file_extension": ".py",
   "mimetype": "text/x-python",
   "name": "python",
   "nbconvert_exporter": "python",
   "pygments_lexer": "ipython3",
   "version": "3.9.13"
  }
 },
 "nbformat": 4,
 "nbformat_minor": 5
}
